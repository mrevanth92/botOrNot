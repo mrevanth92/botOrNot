{
 "cells": [
  {
   "cell_type": "code",
   "execution_count": 1,
   "metadata": {
    "collapsed": true
   },
   "outputs": [],
   "source": [
    "import numpy as np\n",
    "import pandas as pd\n",
    "import glob\n",
    "import string\n",
    "\n",
    "import sys,traceback\n",
    "import ast\n",
    "from datetime import date\n",
    "import datetime as dt\n",
    "import json\n",
    "\n",
    "from sklearn.model_selection import train_test_split,cross_val_score\n",
    "from nltk.tag import pos_tag\n",
    "import nltk\n",
    "\n",
    "import matplotlib.pyplot as plt\n",
    "import seaborn as sns\n",
    "\n",
    "from scipy import stats\n",
    "\n",
    "from sklearn import preprocessing\n",
    "\n",
    "from sklearn.linear_model import LogisticRegression\n",
    "\n",
    "from sklearn.metrics import make_scorer, accuracy_score, confusion_matrix, f1_score\n",
    "\n",
    "from sklearn.preprocessing import Imputer\n",
    "\n",
    "import time\n",
    "from dateutil import parser\n",
    "\n",
    "%matplotlib inline"
   ]
  },
  {
   "cell_type": "code",
   "execution_count": 49,
   "metadata": {
    "collapsed": false
   },
   "outputs": [],
   "source": [
    "train = pd.read_csv(\"./kaggle/Cleaned_TrainData.csv\")\n",
    "test_final = pd.read_csv(\"./kaggle/Cleaned_TestData.csv\")\n",
    "train_tweet = pd.read_csv(\"./kaggle/Train_Tweets.csv\")\n",
    "test_tweet = pd.read_csv(\"./kaggle/Test_Tweets.csv\")"
   ]
  },
  {
   "cell_type": "code",
   "execution_count": 50,
   "metadata": {
    "collapsed": false
   },
   "outputs": [],
   "source": [
    "train_tweet = train_tweet.drop_duplicates('screen_name', keep='first')\n",
    "test_tweet = test_tweet.drop_duplicates('screen_name', keep='first')"
   ]
  },
  {
   "cell_type": "code",
   "execution_count": 51,
   "metadata": {
    "collapsed": true
   },
   "outputs": [],
   "source": [
    "def datetime_to_num(df):\n",
    "    # convert string to time object\n",
    "    for index,row in df.iterrows():\n",
    "        days = [0 for _ in range(7)]\n",
    "        hours = [0 for _ in range(24)]\n",
    "        x = row['created_at_tweets'][1:-1]\n",
    "        x =x.split(',')\n",
    "        for time_date in x:\n",
    "            time_date = time_date[1:-1]\n",
    "            time_date = time_date.strip()\n",
    "            if time_date:\n",
    "                tweet_date = parser.parse(time_date)\n",
    "                days[tweet_date.weekday()] += 1\n",
    "                hours[tweet_date.hour] += 1\n",
    "        df.loc[index, 'days_std']  = stats.kstest(days,'uniform')[0]\n",
    "        df.loc[index, 'hours_std'] = stats.kstest(hours,'uniform')[0]\n",
    "    return df"
   ]
  },
  {
   "cell_type": "code",
   "execution_count": 52,
   "metadata": {
    "collapsed": true
   },
   "outputs": [],
   "source": [
    "train_tweet = datetime_to_num(train_tweet)\n",
    "test_tweet = datetime_to_num(test_tweet)"
   ]
  },
  {
   "cell_type": "code",
   "execution_count": 53,
   "metadata": {
    "collapsed": false
   },
   "outputs": [],
   "source": [
    "T1 = pd.merge(train, train_tweet, on='screen_name', how='outer')\n",
    "T1 = T1.drop_duplicates('screen_name', keep='first')"
   ]
  },
  {
   "cell_type": "code",
   "execution_count": 54,
   "metadata": {
    "collapsed": false
   },
   "outputs": [],
   "source": [
    "T2 = pd.merge(test_final, test_tweet, on='screen_name', how='outer')\n",
    "T2 = T2.drop_duplicates('screen_name', keep='first')"
   ]
  },
  {
   "cell_type": "code",
   "execution_count": 55,
   "metadata": {
    "collapsed": false
   },
   "outputs": [],
   "source": [
    "train =T1\n",
    "test_final = T2\n",
    "train, test = train_test_split(train, test_size = 0.2)"
   ]
  },
  {
   "cell_type": "code",
   "execution_count": 56,
   "metadata": {
    "collapsed": true
   },
   "outputs": [],
   "source": [
    "def returnDates(x,valid):\n",
    "    formated_date = ''\n",
    "    months = {'Jan':1,'Feb':2,'Mar':3,'Apr':4,'May':5,'Jun':6,'Jul':7,'Aug':8,'Sep':9,'Oct':10,'Nov':11,'Dec':12}    \n",
    "    if x.startswith('\"') and x.endswith('\"'): x = x[1:-1]\n",
    "    if x.startswith(\"'\") and x.endswith(\"'\"): x = x[1:-1]\n",
    "    if x.startswith(\"'\"): x = x[1:]\n",
    "    date_split = x.split(' ')\n",
    "    if len(date_split) == 2:\n",
    "        _date = date_split[0].split('/')\n",
    "        if len(_date[2]) == 2:\n",
    "            _date[2] = '20'+_date[2]\n",
    "        formated_date = '/'.join(map(str,_date))\n",
    "        time = date_split[1]\n",
    "        #print formated_date , date_split, pd.to_datetime(formated_date, format='%m/%d/%Y', errors='coerce')\n",
    "    \n",
    "    elif len(date_split) == 6:\n",
    "        m = months[date_split[1]]\n",
    "        formated_date = '/'.join(map(str,[m,date_split[2],date_split[5]]))\n",
    "        if formated_date[-1] == '\"': formated_date = formated_date[:-1]\n",
    "        #print formated_date, date_split, pd.to_datetime(formated_date, format='%m/%d/%Y', errors='coerce')    \n",
    "    \n",
    "    if valid:\n",
    "        return pd.to_datetime(formated_date, format='%m/%d/%Y', errors='coerce')\n",
    "    else:\n",
    "        return pd.to_datetime(time,format='%H:%M').hour"
   ]
  },
  {
   "cell_type": "code",
   "execution_count": 57,
   "metadata": {
    "collapsed": true
   },
   "outputs": [],
   "source": [
    "def lexical_diversity(text):\n",
    "  if len(text) == 0:\n",
    "    diversity = 0\n",
    "  else: \n",
    "    diversity = float(len(set(text))) / len(text)\n",
    "  return diversity\n",
    "    \n",
    "def get_Noun(x):\n",
    "    word = str(x).strip()\n",
    "    count = 0\n",
    "    tagged_sent = pos_tag(word.split())\n",
    "    for w in tagged_sent:\n",
    "        if w[1] == 'NNP':\n",
    "            count+=1\n",
    "    return count\n",
    "\n",
    "def return_dict(x):\n",
    "    if not pd.isnull(x) and x.find('_json=') != -1:\n",
    "        x = x[x.find('_json=')+6:x.find(', coordinates=')]\n",
    "        x = ast.literal_eval(x)\n",
    "        return x\n",
    "    else:\n",
    "        return None\n",
    "\n",
    "def status_created_date(x):\n",
    "    if not pd.isnull(x):\n",
    "        x = return_dict(x)\n",
    "        if x is not None:\n",
    "            x = returnDates(x['created_at'],True)\n",
    "            return x\n",
    "    return pd.to_datetime('05/05/2017', format='%m/%d/%Y', errors='coerce')\n",
    "\n",
    "def in_reply_stats(x):\n",
    "    x = return_dict(x)\n",
    "    if x is not None:\n",
    "        if x['in_reply_to_screen_name'] is not None:\n",
    "            return 1\n",
    "    return 0\n",
    "\n",
    "def tweet_text_data(x):\n",
    "    x = return_dict(x)\n",
    "    if x is not None:\n",
    "        return x['text']\n",
    "    return 'a'\n",
    "\n",
    "def nameR(x):\n",
    "    wordlen = len(str(x).strip().split())\n",
    "    letters = len(''.join(str(x).strip().split()))\n",
    "    return letters/wordlen"
   ]
  },
  {
   "cell_type": "code",
   "execution_count": 58,
   "metadata": {
    "collapsed": true
   },
   "outputs": [],
   "source": [
    "def n_length(df):\n",
    "    name_bot_bool = []\n",
    "    desc_bot_bool = []\n",
    "    for row in df.itertuples():\n",
    "        if 'bot' in str(row.name).lower() or 'bot' in str(row.screen_name).lower():\n",
    "            name_bot_bool.append(1)\n",
    "        else :\n",
    "            name_bot_bool.append(0)\n",
    "        \n",
    "        if 'bot' in str(row.description).lower():\n",
    "            desc_bot_bool.append(1)\n",
    "        else:\n",
    "            desc_bot_bool.append(0)\n",
    "    df.loc[:,'name_bot_bool'] = name_bot_bool\n",
    "    df.loc[:,'desc_bot_bool'] = desc_bot_bool\n",
    "    return df\n",
    "\n",
    "def n_name(test_data_fin):\n",
    "    n_count  = []\n",
    "    n_len = []\n",
    "    for row in test_data_fin.itertuples():\n",
    "        words = str(row.name).split()\n",
    "        nlen = str(row.name).replace(\" \", \"\")\n",
    "        nlen = len(nlen)\n",
    "        n_len.append(nlen)\n",
    "        count = 0\n",
    "        for word in words:\n",
    "            count = count + 1\n",
    "        n_count.append(count)\n",
    "\n",
    "    test_data_fin.loc[:,'n_count'] = n_count\n",
    "    test_data_fin.loc[:,'n_len'] = n_len\n",
    "    return test_data_fin"
   ]
  },
  {
   "cell_type": "code",
   "execution_count": 59,
   "metadata": {
    "collapsed": false
   },
   "outputs": [
    {
     "name": "stderr",
     "output_type": "stream",
     "text": [
      "C:\\Users\\hp\\Anaconda2\\lib\\site-packages\\ipykernel\\__main__.py:2: SettingWithCopyWarning: \n",
      "A value is trying to be set on a copy of a slice from a DataFrame.\n",
      "Try using .loc[row_indexer,col_indexer] = value instead\n",
      "\n",
      "See the caveats in the documentation: http://pandas.pydata.org/pandas-docs/stable/indexing.html#indexing-view-versus-copy\n",
      "  from ipykernel import kernelapp as app\n",
      "C:\\Users\\hp\\Anaconda2\\lib\\site-packages\\pandas\\core\\indexing.py:297: SettingWithCopyWarning: \n",
      "A value is trying to be set on a copy of a slice from a DataFrame.\n",
      "Try using .loc[row_indexer,col_indexer] = value instead\n",
      "\n",
      "See the caveats in the documentation: http://pandas.pydata.org/pandas-docs/stable/indexing.html#indexing-view-versus-copy\n",
      "  self.obj[key] = _infer_fill_value(value)\n",
      "C:\\Users\\hp\\Anaconda2\\lib\\site-packages\\pandas\\core\\indexing.py:477: SettingWithCopyWarning: \n",
      "A value is trying to be set on a copy of a slice from a DataFrame.\n",
      "Try using .loc[row_indexer,col_indexer] = value instead\n",
      "\n",
      "See the caveats in the documentation: http://pandas.pydata.org/pandas-docs/stable/indexing.html#indexing-view-versus-copy\n",
      "  self.obj[item] = s\n",
      "C:\\Users\\hp\\Anaconda2\\lib\\site-packages\\ipykernel\\__main__.py:19: SettingWithCopyWarning: \n",
      "A value is trying to be set on a copy of a slice from a DataFrame.\n",
      "Try using .loc[row_indexer,col_indexer] = value instead\n",
      "\n",
      "See the caveats in the documentation: http://pandas.pydata.org/pandas-docs/stable/indexing.html#indexing-view-versus-copy\n",
      "C:\\Users\\hp\\Anaconda2\\lib\\site-packages\\ipykernel\\__main__.py:20: SettingWithCopyWarning: \n",
      "A value is trying to be set on a copy of a slice from a DataFrame.\n",
      "Try using .loc[row_indexer,col_indexer] = value instead\n",
      "\n",
      "See the caveats in the documentation: http://pandas.pydata.org/pandas-docs/stable/indexing.html#indexing-view-versus-copy\n",
      "C:\\Users\\hp\\Anaconda2\\lib\\site-packages\\ipykernel\\__main__.py:25: SettingWithCopyWarning: \n",
      "A value is trying to be set on a copy of a slice from a DataFrame.\n",
      "Try using .loc[row_indexer,col_indexer] = value instead\n",
      "\n",
      "See the caveats in the documentation: http://pandas.pydata.org/pandas-docs/stable/indexing.html#indexing-view-versus-copy\n",
      "C:\\Users\\hp\\Anaconda2\\lib\\site-packages\\ipykernel\\__main__.py:6: SettingWithCopyWarning: \n",
      "A value is trying to be set on a copy of a slice from a DataFrame.\n",
      "Try using .loc[row_indexer,col_indexer] = value instead\n",
      "\n",
      "See the caveats in the documentation: http://pandas.pydata.org/pandas-docs/stable/indexing.html#indexing-view-versus-copy\n",
      "C:\\Users\\hp\\Anaconda2\\lib\\site-packages\\pandas\\core\\generic.py:2773: SettingWithCopyWarning: \n",
      "A value is trying to be set on a copy of a slice from a DataFrame.\n",
      "Try using .loc[row_indexer,col_indexer] = value instead\n",
      "\n",
      "See the caveats in the documentation: http://pandas.pydata.org/pandas-docs/stable/indexing.html#indexing-view-versus-copy\n",
      "  self[name] = value\n",
      "C:\\Users\\hp\\Anaconda2\\lib\\site-packages\\ipykernel\\__main__.py:10: SettingWithCopyWarning: \n",
      "A value is trying to be set on a copy of a slice from a DataFrame.\n",
      "Try using .loc[row_indexer,col_indexer] = value instead\n",
      "\n",
      "See the caveats in the documentation: http://pandas.pydata.org/pandas-docs/stable/indexing.html#indexing-view-versus-copy\n",
      "C:\\Users\\hp\\Anaconda2\\lib\\site-packages\\ipykernel\\__main__.py:94: SettingWithCopyWarning: \n",
      "A value is trying to be set on a copy of a slice from a DataFrame.\n",
      "Try using .loc[row_indexer,col_indexer] = value instead\n",
      "\n",
      "See the caveats in the documentation: http://pandas.pydata.org/pandas-docs/stable/indexing.html#indexing-view-versus-copy\n",
      "C:\\Users\\hp\\Anaconda2\\lib\\site-packages\\ipykernel\\__main__.py:122: SettingWithCopyWarning: \n",
      "A value is trying to be set on a copy of a slice from a DataFrame.\n",
      "Try using .loc[row_indexer,col_indexer] = value instead\n",
      "\n",
      "See the caveats in the documentation: http://pandas.pydata.org/pandas-docs/stable/indexing.html#indexing-view-versus-copy\n",
      "C:\\Users\\hp\\Anaconda2\\lib\\site-packages\\ipykernel\\__main__.py:123: SettingWithCopyWarning: \n",
      "A value is trying to be set on a copy of a slice from a DataFrame.\n",
      "Try using .loc[row_indexer,col_indexer] = value instead\n",
      "\n",
      "See the caveats in the documentation: http://pandas.pydata.org/pandas-docs/stable/indexing.html#indexing-view-versus-copy\n",
      "C:\\Users\\hp\\Anaconda2\\lib\\site-packages\\ipykernel\\__main__.py:124: SettingWithCopyWarning: \n",
      "A value is trying to be set on a copy of a slice from a DataFrame.\n",
      "Try using .loc[row_indexer,col_indexer] = value instead\n",
      "\n",
      "See the caveats in the documentation: http://pandas.pydata.org/pandas-docs/stable/indexing.html#indexing-view-versus-copy\n",
      "C:\\Users\\hp\\Anaconda2\\lib\\site-packages\\ipykernel\\__main__.py:125: SettingWithCopyWarning: \n",
      "A value is trying to be set on a copy of a slice from a DataFrame.\n",
      "Try using .loc[row_indexer,col_indexer] = value instead\n",
      "\n",
      "See the caveats in the documentation: http://pandas.pydata.org/pandas-docs/stable/indexing.html#indexing-view-versus-copy\n"
     ]
    }
   ],
   "source": [
    "def status_created_at(df):\n",
    "    df['status_created_at'] = df.status.apply(status_created_date)\n",
    "    return df\n",
    "\n",
    "def in_reply_data(df):\n",
    "    df['in_reply_data'] = df.status.apply(in_reply_stats)\n",
    "    return df\n",
    "\n",
    "def tweet_text(df):\n",
    "    df['tweet_text'] = df.status.apply(tweet_text_data)\n",
    "    return df\n",
    "\n",
    "def format_date(df):\n",
    "    df.loc[:,'modified_date'] = df.created_at.apply(lambda x: returnDates(x,True))\n",
    "    df.loc[:,'modified_hour'] = df.created_at.apply(lambda x: returnDates(x,False))\n",
    "    return df\n",
    "\n",
    "def account_age(df):\n",
    "    df['acc_age'] = (df['status_created_at'] - df['modified_date'])\n",
    "    df['acc_age'] = df.acc_age.apply(lambda  x:int(x.days))\n",
    "    for index,row in df.iterrows():\n",
    "        if row['acc_age'] < 0:\n",
    "            value = abs(int((pd.to_datetime('05/05/2017', format='%m/%d/%Y', errors='coerce') - pd.to_datetime(row['modified_date'])).days))\n",
    "            df.set_value(index,'acc_age',value)\n",
    "    df['acc_age'] += 1\n",
    "    return df;\n",
    "\n",
    "def tweets_per_day(df):\n",
    "    df.loc[:,'statuses_count']= df.statuses_count.apply(lambda x: int(x)+1)\n",
    "    df.loc[:,'tweets_per_day'] = df.statuses_count/df.acc_age\n",
    "    return df \n",
    "\n",
    "def ff_ratio(df):\n",
    "    df.followers_count = df.followers_count.apply(lambda x: int(x)+1)\n",
    "    df.friends_count = df.friends_count.apply(lambda x: int(x)+1)\n",
    "    df.loc[:,'ff_ratio'] = (df.followers_count/df.friends_count)\n",
    "    return df\n",
    "    \n",
    "def simplfy_followerscount(df):\n",
    "    bins = (0, 45,357,14054,97525067)\n",
    "    group_names = ['1', '2', '3', '4']\n",
    "    categories = pd.cut(df.followers_count, bins, labels=group_names)\n",
    "    df.followers_count = categories\n",
    "    return df  \n",
    "\n",
    "def simplfy_friendscount(df):\n",
    "    bins = (0, 12,194,740,1870803)\n",
    "    group_names = ['1', '2', '3', '4']\n",
    "    categories = pd.cut(df['friends_count'], bins, labels=group_names)\n",
    "    df.friends_count = categories\n",
    "    return df    \n",
    "\n",
    "def simplfy_listedcount(df):\n",
    "    df.loc[:,'listedcount']= df.listedcount.apply(lambda x: int(x)+1)\n",
    "    bins = (0, 1,18,356,619344)\n",
    "    group_names = ['1', '2', '3', '4']\n",
    "    categories = pd.cut(df['listedcount'], bins, labels=group_names)\n",
    "    df.loc[:,'listedcount'] = categories\n",
    "    return df    \n",
    "\n",
    "def simplfy_favouritescount(df):\n",
    "    df.loc[:,'favourites_count']= df.favourites_count.apply(lambda x: int(x)+1)\n",
    "    bins = (0,41,579,719278)\n",
    "    group_names = ['1', '2', '3']\n",
    "    categories = pd.cut(df.favourites_count, bins, labels=group_names)\n",
    "    df.loc[:,'favourites_count']= categories\n",
    "    return df  \n",
    "\n",
    "def simplfy_statusescount(df):\n",
    "    df.loc[:,'statuses_count']= df.statuses_count.apply(lambda x: int(x)+1)\n",
    "    bins = (0,191,2361,10532,7096046)\n",
    "    group_names =['1', '2', '3', '4']\n",
    "    categories = pd.cut(df.statuses_count, bins, labels=group_names)\n",
    "    df.loc[:,'statuses_count']= categories\n",
    "    return df \n",
    "\n",
    "def drop_features(df):\n",
    "    return df.drop([ 'id_str', 'location','lang','status','created_at'], axis=1)\n",
    "\n",
    "def replace_None(df):\n",
    "    df.loc[:,'has_extended_profile'] = df['has_extended_profile'].fillna(df.has_extended_profile.median())\n",
    "    return df\n",
    "\n",
    "def format_date(df):\n",
    "    df.loc[:,'modified_date'] = df.created_at.apply(lambda x: returnDates(x,True))\n",
    "    df.loc[:,'modified_hour'] = df.created_at.apply(lambda x: returnDates(x,False))\n",
    "    return df\n",
    "\n",
    "def diversity(df):\n",
    "    df.loc[:,'description'].fillna(\"\")    \n",
    "    df.loc[:,'sn_length'] = df.screen_name.apply(lambda text: len(str(text)))\n",
    "    df.loc[:,'desc_length'] = df.description.apply(lambda text: len(str(text)))\n",
    "    grouped = df['screen_name']\n",
    "    df['diversity'] = grouped.apply(lexical_diversity)\n",
    "    df.loc[:,'null_url'] = df.url.apply(lambda x: 1 if (str(x).find('http'))!=-1 else 0)\n",
    "    return df\n",
    "\n",
    "def name_ratio(df):\n",
    "    df.loc[:,'nameratio'] = df.name.apply(lambda x: nameR(x))\n",
    "    return df\n",
    "\n",
    "def fill_na_tweet_data(df):\n",
    "    df.loc[:,'In_reply'] = df.In_reply.fillna(0)\n",
    "    df.loc[:,'retweet_count'] = df.retweet_count.fillna(0)\n",
    "    df.loc[:,'fav_count'] = df.fav_count.fillna(0)\n",
    "    df.loc[:,'total_usrmention'] = df.total_usrmention.fillna(0)\n",
    "    \n",
    "    return df\n",
    "def set_avg(df):\n",
    "    list = []\n",
    "    avg_In_reply = []\n",
    "    avg_retweet_count = []\n",
    "    avg_fav_count = []\n",
    "    avg_total_usrmention = []\n",
    "    for row in df.itertuples():\n",
    "            lis = str(df['created_at_tweets']).split(\",\")\n",
    "            lent = len(lis)\n",
    "            avg_In_reply.append(row.In_reply/lent)\n",
    "            avg_retweet_count.append(row.retweet_count/lent)\n",
    "            avg_fav_count.append(row.fav_count/lent)\n",
    "            avg_total_usrmention.append(row.total_usrmention/lent)\n",
    "    df['avg_In_reply'] = avg_In_reply\n",
    "    df['avg_retweet_count'] = avg_retweet_count\n",
    "    df['avg_fav_count'] = avg_fav_count\n",
    "    df['avg_total_usrmention'] = avg_total_usrmention\n",
    "    return df\n",
    "\n",
    "def transform_features(df):\n",
    "    df = status_created_at(df)\n",
    "    df = format_date(df)\n",
    "    df = account_age(df)\n",
    "    df = tweets_per_day(df)\n",
    "    df = in_reply_data(df)\n",
    "    df = ff_ratio(df)\n",
    "    df = tweet_text(df)\n",
    "    #df = simplfy_followerscount(df)\n",
    "    #df = simplfy_friendscount(df)\n",
    "    #df = simplfy_listedcount(df)\n",
    "    #df = simplfy_favouritescount(df)\n",
    "    #df = simplfy_statusescount(df)   \n",
    "    df = replace_None(df)  \n",
    "    df = diversity(df)\n",
    "    df = name_ratio(df)\n",
    "    df = n_length(df)\n",
    "    df = n_name(df)\n",
    "    df = fill_na_tweet_data(df)\n",
    "    df = set_avg(df)\n",
    "    df = drop_features(df)\n",
    "    return df\n",
    "train = transform_features(train)\n",
    "test = transform_features(test)\n",
    "test_final = transform_features(test_final)"
   ]
  },
  {
   "cell_type": "code",
   "execution_count": 60,
   "metadata": {
    "collapsed": false
   },
   "outputs": [
    {
     "data": {
      "text/html": [
       "<div>\n",
       "<table border=\"1\" class=\"dataframe\">\n",
       "  <thead>\n",
       "    <tr style=\"text-align: right;\">\n",
       "      <th></th>\n",
       "      <th>id</th>\n",
       "      <th>screen_name</th>\n",
       "      <th>description</th>\n",
       "      <th>url</th>\n",
       "      <th>followers_count</th>\n",
       "      <th>friends_count</th>\n",
       "      <th>listedcount</th>\n",
       "      <th>favourites_count</th>\n",
       "      <th>verified</th>\n",
       "      <th>statuses_count</th>\n",
       "      <th>...</th>\n",
       "      <th>null_url</th>\n",
       "      <th>nameratio</th>\n",
       "      <th>name_bot_bool</th>\n",
       "      <th>desc_bot_bool</th>\n",
       "      <th>n_count</th>\n",
       "      <th>n_len</th>\n",
       "      <th>avg_In_reply</th>\n",
       "      <th>avg_retweet_count</th>\n",
       "      <th>avg_fav_count</th>\n",
       "      <th>avg_total_usrmention</th>\n",
       "    </tr>\n",
       "  </thead>\n",
       "  <tbody>\n",
       "    <tr>\n",
       "      <th>0</th>\n",
       "      <td>2.281293e+09</td>\n",
       "      <td>__keating</td>\n",
       "      <td>lgbt editor at @buzzfeed. shannon.keating@buzz...</td>\n",
       "      <td>https://t.co/QneJmYRyhj</td>\n",
       "      <td>4536</td>\n",
       "      <td>1309</td>\n",
       "      <td>112</td>\n",
       "      <td>1635</td>\n",
       "      <td>TRUE</td>\n",
       "      <td>3060</td>\n",
       "      <td>...</td>\n",
       "      <td>1</td>\n",
       "      <td>7</td>\n",
       "      <td>0</td>\n",
       "      <td>0</td>\n",
       "      <td>2</td>\n",
       "      <td>14</td>\n",
       "      <td>0.451613</td>\n",
       "      <td>1.016129</td>\n",
       "      <td>0.822581</td>\n",
       "      <td>1.435484</td>\n",
       "    </tr>\n",
       "  </tbody>\n",
       "</table>\n",
       "<p>1 rows × 44 columns</p>\n",
       "</div>"
      ],
      "text/plain": [
       "             id screen_name  \\\n",
       "0  2.281293e+09   __keating   \n",
       "\n",
       "                                         description                      url  \\\n",
       "0  lgbt editor at @buzzfeed. shannon.keating@buzz...  https://t.co/QneJmYRyhj   \n",
       "\n",
       "   followers_count  friends_count  listedcount  favourites_count verified  \\\n",
       "0             4536           1309          112              1635     TRUE   \n",
       "\n",
       "   statuses_count         ...          null_url nameratio name_bot_bool  \\\n",
       "0            3060         ...                 1         7             0   \n",
       "\n",
       "  desc_bot_bool  n_count  n_len  avg_In_reply  avg_retweet_count  \\\n",
       "0             0        2     14      0.451613           1.016129   \n",
       "\n",
       "   avg_fav_count avg_total_usrmention  \n",
       "0       0.822581             1.435484  \n",
       "\n",
       "[1 rows x 44 columns]"
      ]
     },
     "execution_count": 60,
     "metadata": {},
     "output_type": "execute_result"
    }
   ],
   "source": [
    "test_final.head(1)"
   ]
  },
  {
   "cell_type": "code",
   "execution_count": 61,
   "metadata": {
    "collapsed": true
   },
   "outputs": [],
   "source": [
    "train.loc[:,'days_std'] = train.days_std.fillna(0)\n",
    "train.loc[:,'hours_std'] = train.hours_std.fillna(0)\n",
    "test.loc[:,'days_std'] = test.days_std.fillna(0)\n",
    "test.loc[:,'hours_std'] = test.hours_std.fillna(0)\n",
    "test_final.loc[:,'days_std'] = test_final.days_std.fillna(0)\n",
    "test_final.loc[:,'hours_std'] = test_final.hours_std.fillna(0)"
   ]
  },
  {
   "cell_type": "code",
   "execution_count": 62,
   "metadata": {
    "collapsed": false
   },
   "outputs": [
    {
     "name": "stdout",
     "output_type": "stream",
     "text": [
      "<class 'pandas.core.frame.DataFrame'>\n",
      "Int64Index: 575 entries, 0 to 574\n",
      "Data columns (total 44 columns):\n",
      "id                       575 non-null float64\n",
      "screen_name              575 non-null object\n",
      "description              538 non-null object\n",
      "url                      383 non-null object\n",
      "followers_count          575 non-null int64\n",
      "friends_count            575 non-null int64\n",
      "listedcount              575 non-null int64\n",
      "favourites_count         575 non-null int64\n",
      "verified                 575 non-null object\n",
      "statuses_count           575 non-null int64\n",
      "default_profile          575 non-null bool\n",
      "default_profile_image    575 non-null bool\n",
      "has_extended_profile     575 non-null bool\n",
      "name                     574 non-null object\n",
      "bot                      0 non-null float64\n",
      "In_reply                 575 non-null float64\n",
      "retweet_count            575 non-null float64\n",
      "fav_count                575 non-null float64\n",
      "total_usrmention         575 non-null float64\n",
      "created_at_tweets        568 non-null object\n",
      "texts                    568 non-null object\n",
      "days_std                 575 non-null float64\n",
      "hours_std                575 non-null float64\n",
      "status_created_at        575 non-null datetime64[ns]\n",
      "modified_date            575 non-null datetime64[ns]\n",
      "modified_hour            575 non-null int64\n",
      "acc_age                  575 non-null int64\n",
      "tweets_per_day           575 non-null float64\n",
      "in_reply_data            575 non-null int64\n",
      "ff_ratio                 575 non-null float64\n",
      "tweet_text               575 non-null object\n",
      "sn_length                575 non-null int64\n",
      "desc_length              575 non-null int64\n",
      "diversity                575 non-null float64\n",
      "null_url                 575 non-null int64\n",
      "nameratio                575 non-null int64\n",
      "name_bot_bool            575 non-null int64\n",
      "desc_bot_bool            575 non-null int64\n",
      "n_count                  575 non-null int64\n",
      "n_len                    575 non-null int64\n",
      "avg_In_reply             575 non-null float64\n",
      "avg_retweet_count        575 non-null float64\n",
      "avg_fav_count            575 non-null float64\n",
      "avg_total_usrmention     575 non-null float64\n",
      "dtypes: bool(3), datetime64[ns](2), float64(15), int64(16), object(8)\n",
      "memory usage: 190.4+ KB\n"
     ]
    }
   ],
   "source": [
    "test_final.info()"
   ]
  },
  {
   "cell_type": "code",
   "execution_count": 64,
   "metadata": {
    "collapsed": false
   },
   "outputs": [],
   "source": [
    "from sklearn import preprocessing\n",
    "def encode_features(df_train, df_test):\n",
    "    features = ['verified','name_bot_bool','desc_bot_bool']\n",
    "    df_combined = pd.concat([df_train[features], df_test[features]])\n",
    "    \n",
    "    for feature in features:\n",
    "        le = preprocessing.LabelEncoder()\n",
    "        le = le.fit(df_combined[feature])\n",
    "        df_train.loc[:,feature] = le.transform(df_train[feature])\n",
    "        df_test.loc[:,feature] = le.transform(df_test[feature])\n",
    "    return df_train, df_test\n",
    "    \n",
    "train, test_final = encode_features(train, test_final)\n",
    "train, test = encode_features(train, test)"
   ]
  },
  {
   "cell_type": "code",
   "execution_count": 65,
   "metadata": {
    "collapsed": true
   },
   "outputs": [],
   "source": [
    "features = ['friends_count','followers_count','favourites_count','verified','default_profile','listedcount',\n",
    "            'ff_ratio','tweets_per_day','acc_age','statuses_count','nameratio','name_bot_bool','desc_bot_bool',\n",
    "            'n_count','n_len','In_reply','retweet_count','fav_count','total_usrmention']"
   ]
  },
  {
   "cell_type": "code",
   "execution_count": 103,
   "metadata": {
    "collapsed": false
   },
   "outputs": [],
   "source": [
    "from sklearn.preprocessing import PolynomialFeatures,StandardScaler\n",
    "poly = PolynomialFeatures(degree=5)\n",
    "train_poly =  poly.fit_transform(train[features])\n",
    "train_ss = StandardScaler().fit(train_poly)\n",
    "train_poly = train_ss.transform(train_poly)"
   ]
  },
  {
   "cell_type": "code",
   "execution_count": 104,
   "metadata": {
    "collapsed": false
   },
   "outputs": [
    {
     "data": {
      "text/plain": [
       "(2230L, 42504L)"
      ]
     },
     "execution_count": 104,
     "metadata": {},
     "output_type": "execute_result"
    }
   ],
   "source": [
    "train_poly.shape"
   ]
  },
  {
   "cell_type": "code",
   "execution_count": 105,
   "metadata": {
    "collapsed": true
   },
   "outputs": [],
   "source": [
    "test_poly =  poly.transform(test[features])\n",
    "test_poly = train_ss.transform(test_poly)"
   ]
  },
  {
   "cell_type": "code",
   "execution_count": 106,
   "metadata": {
    "collapsed": false
   },
   "outputs": [
    {
     "ename": "ValueError",
     "evalue": "operands could not be broadcast together with shapes (575,19) (42504,) (575,19) ",
     "output_type": "error",
     "traceback": [
      "\u001b[0;31m---------------------------------------------------------------------------\u001b[0m",
      "\u001b[0;31mValueError\u001b[0m                                Traceback (most recent call last)",
      "\u001b[0;32m<ipython-input-106-30a30cae1f8c>\u001b[0m in \u001b[0;36m<module>\u001b[0;34m()\u001b[0m\n\u001b[0;32m----> 1\u001b[0;31m \u001b[0mtest_final_poly\u001b[0m \u001b[1;33m=\u001b[0m \u001b[0mtrain_ss\u001b[0m\u001b[1;33m.\u001b[0m\u001b[0mtransform\u001b[0m\u001b[1;33m(\u001b[0m\u001b[0mtest_final\u001b[0m\u001b[1;33m[\u001b[0m\u001b[0mfeatures\u001b[0m\u001b[1;33m]\u001b[0m\u001b[1;33m)\u001b[0m\u001b[1;33m\u001b[0m\u001b[0m\n\u001b[0m\u001b[1;32m      2\u001b[0m \u001b[0mtest_final_poly\u001b[0m \u001b[1;33m=\u001b[0m  \u001b[0mpoly\u001b[0m\u001b[1;33m.\u001b[0m\u001b[0mfit_transform\u001b[0m\u001b[1;33m(\u001b[0m\u001b[0mtest_final_poly\u001b[0m\u001b[1;33m)\u001b[0m\u001b[1;33m\u001b[0m\u001b[0m\n",
      "\u001b[0;32mC:\\Users\\hp\\Anaconda2\\lib\\site-packages\\sklearn\\preprocessing\\data.pyc\u001b[0m in \u001b[0;36mtransform\u001b[0;34m(self, X, y, copy)\u001b[0m\n\u001b[1;32m    658\u001b[0m         \u001b[1;32melse\u001b[0m\u001b[1;33m:\u001b[0m\u001b[1;33m\u001b[0m\u001b[0m\n\u001b[1;32m    659\u001b[0m             \u001b[1;32mif\u001b[0m \u001b[0mself\u001b[0m\u001b[1;33m.\u001b[0m\u001b[0mwith_mean\u001b[0m\u001b[1;33m:\u001b[0m\u001b[1;33m\u001b[0m\u001b[0m\n\u001b[0;32m--> 660\u001b[0;31m                 \u001b[0mX\u001b[0m \u001b[1;33m-=\u001b[0m \u001b[0mself\u001b[0m\u001b[1;33m.\u001b[0m\u001b[0mmean_\u001b[0m\u001b[1;33m\u001b[0m\u001b[0m\n\u001b[0m\u001b[1;32m    661\u001b[0m             \u001b[1;32mif\u001b[0m \u001b[0mself\u001b[0m\u001b[1;33m.\u001b[0m\u001b[0mwith_std\u001b[0m\u001b[1;33m:\u001b[0m\u001b[1;33m\u001b[0m\u001b[0m\n\u001b[1;32m    662\u001b[0m                 \u001b[0mX\u001b[0m \u001b[1;33m/=\u001b[0m \u001b[0mself\u001b[0m\u001b[1;33m.\u001b[0m\u001b[0mscale_\u001b[0m\u001b[1;33m\u001b[0m\u001b[0m\n",
      "\u001b[0;31mValueError\u001b[0m: operands could not be broadcast together with shapes (575,19) (42504,) (575,19) "
     ]
    }
   ],
   "source": [
    "test_final_poly = train_ss.transform(test_final[features])\n",
    "test_final_poly =  poly.fit_transform(test_final_poly)"
   ]
  },
  {
   "cell_type": "code",
   "execution_count": 107,
   "metadata": {
    "collapsed": false
   },
   "outputs": [
    {
     "name": "stdout",
     "output_type": "stream",
     "text": [
      "0.872262773723\n"
     ]
    }
   ],
   "source": [
    "from sklearn import preprocessing\n",
    "from sklearn.linear_model import LogisticRegression\n",
    "model = LogisticRegression(n_jobs=-1,C=100000,fit_intercept=True,penalty='l2',multi_class='multinomial',solver='sag')\n",
    "model = model.fit(train_poly, train['bot'])\n",
    "#y = model.predict(test_poly)\n",
    "yp = model.predict(test_poly)\n",
    "#print yp.shape\n",
    "#print test['bot'].shape\n",
    "#print accuracy_score(yp,test['bot'])\n",
    "print f1_score(yp,test['bot'])"
   ]
  },
  {
   "cell_type": "code",
   "execution_count": 48,
   "metadata": {
    "collapsed": false
   },
   "outputs": [
    {
     "data": {
      "text/html": [
       "<div>\n",
       "<table border=\"1\" class=\"dataframe\">\n",
       "  <thead>\n",
       "    <tr style=\"text-align: right;\">\n",
       "      <th></th>\n",
       "      <th>bot</th>\n",
       "    </tr>\n",
       "  </thead>\n",
       "  <tbody>\n",
       "    <tr>\n",
       "      <th>0</th>\n",
       "      <td>0</td>\n",
       "    </tr>\n",
       "    <tr>\n",
       "      <th>1</th>\n",
       "      <td>0</td>\n",
       "    </tr>\n",
       "    <tr>\n",
       "      <th>2</th>\n",
       "      <td>0</td>\n",
       "    </tr>\n",
       "    <tr>\n",
       "      <th>3</th>\n",
       "      <td>0</td>\n",
       "    </tr>\n",
       "    <tr>\n",
       "      <th>4</th>\n",
       "      <td>1</td>\n",
       "    </tr>\n",
       "    <tr>\n",
       "      <th>5</th>\n",
       "      <td>0</td>\n",
       "    </tr>\n",
       "    <tr>\n",
       "      <th>6</th>\n",
       "      <td>1</td>\n",
       "    </tr>\n",
       "    <tr>\n",
       "      <th>7</th>\n",
       "      <td>0</td>\n",
       "    </tr>\n",
       "    <tr>\n",
       "      <th>8</th>\n",
       "      <td>0</td>\n",
       "    </tr>\n",
       "    <tr>\n",
       "      <th>9</th>\n",
       "      <td>0</td>\n",
       "    </tr>\n",
       "  </tbody>\n",
       "</table>\n",
       "</div>"
      ],
      "text/plain": [
       "   bot\n",
       "0    0\n",
       "1    0\n",
       "2    0\n",
       "3    0\n",
       "4    1\n",
       "5    0\n",
       "6    1\n",
       "7    0\n",
       "8    0\n",
       "9    0"
      ]
     },
     "execution_count": 48,
     "metadata": {},
     "output_type": "execute_result"
    }
   ],
   "source": [
    "ttd = pd.DataFrame()\n",
    "ttd['bot'] = y\n",
    "ttd.to_csv('example_log_test_final_data.csv', index = False)\n",
    "ttd.head(10)"
   ]
  },
  {
   "cell_type": "code",
   "execution_count": 101,
   "metadata": {
    "collapsed": false
   },
   "outputs": [
    {
     "name": "stdout",
     "output_type": "stream",
     "text": [
      "[ 0.88839286  0.9058296   0.86995516  0.9058296   0.87892377  0.86098655\n",
      "  0.89237668  0.9058296   0.88340807  0.87387387] 0.886540574447\n"
     ]
    }
   ],
   "source": [
    "a = cross_val_score(model, train_poly, train['bot'], cv=10)\n",
    "print a,np.mean(a)"
   ]
  },
  {
   "cell_type": "code",
   "execution_count": 74,
   "metadata": {
    "collapsed": false
   },
   "outputs": [
    {
     "name": "stdout",
     "output_type": "stream",
     "text": [
      "[LibLinear]0.903225806452\n",
      "0.896551724138\n"
     ]
    }
   ],
   "source": [
    "from sklearn import preprocessing\n",
    "from sklearn.linear_model import LogisticRegression\n",
    "model_l1 = LogisticRegression(n_jobs=-1,C=1,fit_intercept=True,penalty='l1',verbose=1000)\n",
    "model_l1 = model_l1.fit(train_poly, train['bot'])\n",
    "yp = model.predict(test_poly)\n",
    "print accuracy_score(yp,test['bot'])\n",
    "print f1_score(yp,test['bot'])"
   ]
  },
  {
   "cell_type": "code",
   "execution_count": 75,
   "metadata": {
    "collapsed": false
   },
   "outputs": [
    {
     "name": "stdout",
     "output_type": "stream",
     "text": [
      "[LibLinear][LibLinear][LibLinear][LibLinear][LibLinear][LibLinear][LibLinear][LibLinear][LibLinear][LibLinear][ 0.87946429  0.88340807  0.87892377  0.87892377  0.9058296   0.89237668\n",
      "  0.88340807  0.93273543  0.90134529  0.88738739] 0.892380234575\n"
     ]
    }
   ],
   "source": [
    "a_l1 = cross_val_score(model_l1, train_poly, train['bot'], cv=10)\n",
    "print a_l1,np.mean(a_l1)"
   ]
  },
  {
   "cell_type": "code",
   "execution_count": 58,
   "metadata": {
    "collapsed": false
   },
   "outputs": [],
   "source": [
    "from sklearn.svm import SVC\n",
    "clf = SVC(C=1.0,kernel='poly')\n",
    "\n",
    "clf = clf.fit(train_poly, train['bot'])"
   ]
  },
  {
   "cell_type": "code",
   "execution_count": 30,
   "metadata": {
    "collapsed": false
   },
   "outputs": [
    {
     "name": "stdout",
     "output_type": "stream",
     "text": [
      "[ 0.84        0.84888889  0.83482143  0.86160714  0.83928571  0.85201794\n",
      "  0.8161435   0.82511211  0.81165919  0.88789238] 0.841742828671\n"
     ]
    }
   ],
   "source": [
    "a_svm = cross_val_score(clf, train_poly, train['bot'], cv=10)\n",
    "print a_svm,np.mean(a_svm)"
   ]
  },
  {
   "cell_type": "code",
   "execution_count": 78,
   "metadata": {
    "collapsed": false
   },
   "outputs": [
    {
     "data": {
      "text/plain": [
       "RandomForestClassifier(bootstrap=True, class_weight=None, criterion='gini',\n",
       "            max_depth=6, max_features='auto', max_leaf_nodes=None,\n",
       "            min_impurity_split=1e-07, min_samples_leaf=1,\n",
       "            min_samples_split=2, min_weight_fraction_leaf=0.0,\n",
       "            n_estimators=10, n_jobs=2, oob_score=False, random_state=100,\n",
       "            verbose=0, warm_start=False)"
      ]
     },
     "execution_count": 78,
     "metadata": {},
     "output_type": "execute_result"
    }
   ],
   "source": [
    "from sklearn.ensemble import RandomForestClassifier\n",
    "\n",
    "rf_clf = RandomForestClassifier(n_jobs=2,max_depth= 6,criterion = 'gini', random_state = 100)\n",
    "rf_clf.fit(train[features], train['bot'])"
   ]
  },
  {
   "cell_type": "code",
   "execution_count": 77,
   "metadata": {
    "collapsed": false
   },
   "outputs": [],
   "source": [
    "y_pred_class = rf_clf.predict(test_final[features])\n",
    "test_final['bot'] = y_pred_class"
   ]
  },
  {
   "cell_type": "code",
   "execution_count": 15,
   "metadata": {
    "collapsed": false
   },
   "outputs": [
    {
     "data": {
      "text/html": [
       "<div>\n",
       "<table border=\"1\" class=\"dataframe\">\n",
       "  <thead>\n",
       "    <tr style=\"text-align: right;\">\n",
       "      <th></th>\n",
       "      <th>bot</th>\n",
       "      <th>id</th>\n",
       "    </tr>\n",
       "  </thead>\n",
       "  <tbody>\n",
       "    <tr>\n",
       "      <th>0</th>\n",
       "      <td>0</td>\n",
       "      <td>2281292622</td>\n",
       "    </tr>\n",
       "    <tr>\n",
       "      <th>1</th>\n",
       "      <td>0</td>\n",
       "      <td>2344040251</td>\n",
       "    </tr>\n",
       "    <tr>\n",
       "      <th>2</th>\n",
       "      <td>0</td>\n",
       "      <td>765871267</td>\n",
       "    </tr>\n",
       "    <tr>\n",
       "      <th>3</th>\n",
       "      <td>0</td>\n",
       "      <td>4772373433</td>\n",
       "    </tr>\n",
       "    <tr>\n",
       "      <th>4</th>\n",
       "      <td>1</td>\n",
       "      <td>1324548560</td>\n",
       "    </tr>\n",
       "    <tr>\n",
       "      <th>5</th>\n",
       "      <td>1</td>\n",
       "      <td>2561341789</td>\n",
       "    </tr>\n",
       "    <tr>\n",
       "      <th>6</th>\n",
       "      <td>1</td>\n",
       "      <td>347810134</td>\n",
       "    </tr>\n",
       "    <tr>\n",
       "      <th>7</th>\n",
       "      <td>1</td>\n",
       "      <td>856303860</td>\n",
       "    </tr>\n",
       "    <tr>\n",
       "      <th>8</th>\n",
       "      <td>1</td>\n",
       "      <td>833000000000000000</td>\n",
       "    </tr>\n",
       "    <tr>\n",
       "      <th>9</th>\n",
       "      <td>0</td>\n",
       "      <td>88856792</td>\n",
       "    </tr>\n",
       "  </tbody>\n",
       "</table>\n",
       "</div>"
      ],
      "text/plain": [
       "   bot                  id\n",
       "0    0          2281292622\n",
       "1    0          2344040251\n",
       "2    0           765871267\n",
       "3    0          4772373433\n",
       "4    1          1324548560\n",
       "5    1          2561341789\n",
       "6    1           347810134\n",
       "7    1           856303860\n",
       "8    1  833000000000000000\n",
       "9    0            88856792"
      ]
     },
     "execution_count": 15,
     "metadata": {},
     "output_type": "execute_result"
    }
   ],
   "source": [
    "#test_final.to_csv('example_log_2.csv')\n",
    "\n",
    "ttd = pd.DataFrame()\n",
    "ttd['bot'] = y_pred_class\n",
    "ttd['id'] = test_final_id.astype('int64')\n",
    "#ttd.to_csv('example_log_3.csv', index = False)\n",
    "ttd.head(10)"
   ]
  },
  {
   "cell_type": "code",
   "execution_count": 26,
   "metadata": {
    "collapsed": false
   },
   "outputs": [
    {
     "ename": "ValueError",
     "evalue": "Can't handle mix of binary and continuous",
     "output_type": "error",
     "traceback": [
      "\u001b[0;31m---------------------------------------------------------------------------\u001b[0m",
      "\u001b[0;31mValueError\u001b[0m                                Traceback (most recent call last)",
      "\u001b[0;32m<ipython-input-26-095667901bc8>\u001b[0m in \u001b[0;36m<module>\u001b[0;34m()\u001b[0m\n\u001b[0;32m----> 1\u001b[0;31m \u001b[1;32mprint\u001b[0m \u001b[0maccuracy_score\u001b[0m\u001b[1;33m(\u001b[0m\u001b[0my_pred_class\u001b[0m\u001b[1;33m,\u001b[0m\u001b[0mtest_final\u001b[0m\u001b[1;33m[\u001b[0m\u001b[1;34m'bot'\u001b[0m\u001b[1;33m]\u001b[0m\u001b[1;33m)\u001b[0m\u001b[1;33m\u001b[0m\u001b[0m\n\u001b[0m",
      "\u001b[0;32mC:\\Users\\hp\\Anaconda2\\lib\\site-packages\\sklearn\\metrics\\classification.pyc\u001b[0m in \u001b[0;36maccuracy_score\u001b[0;34m(y_true, y_pred, normalize, sample_weight)\u001b[0m\n\u001b[1;32m    170\u001b[0m \u001b[1;33m\u001b[0m\u001b[0m\n\u001b[1;32m    171\u001b[0m     \u001b[1;31m# Compute accuracy for each possible representation\u001b[0m\u001b[1;33m\u001b[0m\u001b[1;33m\u001b[0m\u001b[0m\n\u001b[0;32m--> 172\u001b[0;31m     \u001b[0my_type\u001b[0m\u001b[1;33m,\u001b[0m \u001b[0my_true\u001b[0m\u001b[1;33m,\u001b[0m \u001b[0my_pred\u001b[0m \u001b[1;33m=\u001b[0m \u001b[0m_check_targets\u001b[0m\u001b[1;33m(\u001b[0m\u001b[0my_true\u001b[0m\u001b[1;33m,\u001b[0m \u001b[0my_pred\u001b[0m\u001b[1;33m)\u001b[0m\u001b[1;33m\u001b[0m\u001b[0m\n\u001b[0m\u001b[1;32m    173\u001b[0m     \u001b[1;32mif\u001b[0m \u001b[0my_type\u001b[0m\u001b[1;33m.\u001b[0m\u001b[0mstartswith\u001b[0m\u001b[1;33m(\u001b[0m\u001b[1;34m'multilabel'\u001b[0m\u001b[1;33m)\u001b[0m\u001b[1;33m:\u001b[0m\u001b[1;33m\u001b[0m\u001b[0m\n\u001b[1;32m    174\u001b[0m         \u001b[0mdiffering_labels\u001b[0m \u001b[1;33m=\u001b[0m \u001b[0mcount_nonzero\u001b[0m\u001b[1;33m(\u001b[0m\u001b[0my_true\u001b[0m \u001b[1;33m-\u001b[0m \u001b[0my_pred\u001b[0m\u001b[1;33m,\u001b[0m \u001b[0maxis\u001b[0m\u001b[1;33m=\u001b[0m\u001b[1;36m1\u001b[0m\u001b[1;33m)\u001b[0m\u001b[1;33m\u001b[0m\u001b[0m\n",
      "\u001b[0;32mC:\\Users\\hp\\Anaconda2\\lib\\site-packages\\sklearn\\metrics\\classification.pyc\u001b[0m in \u001b[0;36m_check_targets\u001b[0;34m(y_true, y_pred)\u001b[0m\n\u001b[1;32m     80\u001b[0m     \u001b[1;32mif\u001b[0m \u001b[0mlen\u001b[0m\u001b[1;33m(\u001b[0m\u001b[0my_type\u001b[0m\u001b[1;33m)\u001b[0m \u001b[1;33m>\u001b[0m \u001b[1;36m1\u001b[0m\u001b[1;33m:\u001b[0m\u001b[1;33m\u001b[0m\u001b[0m\n\u001b[1;32m     81\u001b[0m         raise ValueError(\"Can't handle mix of {0} and {1}\"\n\u001b[0;32m---> 82\u001b[0;31m                          \"\".format(type_true, type_pred))\n\u001b[0m\u001b[1;32m     83\u001b[0m \u001b[1;33m\u001b[0m\u001b[0m\n\u001b[1;32m     84\u001b[0m     \u001b[1;31m# We can't have more than one value on y_type => The set is no more needed\u001b[0m\u001b[1;33m\u001b[0m\u001b[1;33m\u001b[0m\u001b[0m\n",
      "\u001b[0;31mValueError\u001b[0m: Can't handle mix of binary and continuous"
     ]
    }
   ],
   "source": [
    "print accuracy_score(y_pred_class,test['bot'])"
   ]
  },
  {
   "cell_type": "code",
   "execution_count": 158,
   "metadata": {
    "collapsed": false
   },
   "outputs": [
    {
     "name": "stdout",
     "output_type": "stream",
     "text": [
      "[ 0.92376682  0.92825112  0.87892377  0.92825112  0.89237668  0.91928251\n",
      "  0.91479821  0.91479821  0.86098655  0.90134529] 0.906278026906\n"
     ]
    }
   ],
   "source": [
    "a_svm = cross_val_score(rf_clf, train_poly, train['bot'], cv=10)\n",
    "print a_svm,np.mean(a_svm)"
   ]
  },
  {
   "cell_type": "code",
   "execution_count": 79,
   "metadata": {
    "collapsed": false
   },
   "outputs": [
    {
     "data": {
      "text/plain": [
       "0.92397660818713456"
      ]
     },
     "execution_count": 79,
     "metadata": {},
     "output_type": "execute_result"
    }
   ],
   "source": [
    "from sklearn.ensemble import AdaBoostClassifier\n",
    "ada = AdaBoostClassifier(base_estimator=rf_clf, n_estimators=50, learning_rate=1.0, algorithm='SAMME.R', random_state=None)\n",
    "ada.fit(train[features],train['bot'])\n",
    "y = ada.predict(test[features])\n",
    "accuracy_score(y, test['bot'])\n",
    "f1_score(y, test['bot'])"
   ]
  },
  {
   "cell_type": "code",
   "execution_count": 26,
   "metadata": {
    "collapsed": false
   },
   "outputs": [
    {
     "name": "stdout",
     "output_type": "stream",
     "text": [
      "[0 0 0 0 1 1 1 1 1 0 1 0 0 0 0 0 0 0 1 1 0 0 0 0 0 0 0 0 0 0 0 0 1 0 1 1 0\n",
      " 1 1 0 1 0 0 1 0 0 0 0 0 0 0 1 0 1 0 0 0 0 0 0 0 1 0 0 0 0 0 1 0 1 1 1 1 1\n",
      " 1 1 1 0 0 0 0 1 0 0 1 0 0 0 0 0 0 0 0 0 0 0 0 0 0 0 0 1 0 0 0 0 0 1 1 0 0\n",
      " 1 0 0 0 1 0 1 1 1 0 0 0 1 1 0 0 0 0 0 0 0 0 0 0 1 1 0 0 0 0 0 0 0 1 1 0 0\n",
      " 0 0 1 0 0 0 1 1 0 0 0 0 0 0 1 0 0 0 0 1 0 1 1 1 0 0 1 1 1 1 1 1 1 0 1 1 1\n",
      " 1 0 0 1 1 0 0 1 0 0 1 1 1 1 0 1 1 0 1 1 1 1 0 0 0 0 0 1 1 1 1 0 1 0 0 1 0\n",
      " 0 0 0 0 0 1 0 0 0 1 0 0 0 0 0 0 0 0 0 1 1 0 1 1 0 1 0 0 1 0 1 0 0 1 0 1 0\n",
      " 0 1 0 1 1 0 1 0 0 0 1 0 0 1 1 0 1 0 0 0 0 0 1 0 0 0 1 1 1 1 1 1 1 0 0 0 1\n",
      " 0 0 1 0 1 1 0 0 0 0 0 0 0 0 1 1 1 0 1 0 0 0 0 0 0 1 1 1 0 0 0 0 0 0 0 0 0\n",
      " 0 1 1 0 0 0 0 0 0 0 0 0 0 1 1 1 0 0 0 1 1 0 1 1 0 1 0 0 1 0 1 0 0 0 1 0 0\n",
      " 0 0 0 0 0 0 1 0 1 0 0 0 0 0 1 1 1 1 0 1 1 1 1 1 1 0 0 1 0 1 1 0 1 0 0 0 0\n",
      " 0 1 0 1 0 1 0 0 0 0 0 0 0 1 1 0 0 0 0 0 0 0 0 1 0 1 0 0 0 1 1 1 0 0 0 0 1\n",
      " 0 1 1 0 1 1 1 1 0 0 0 0 1 1 1 1 0 1 1 1 1 0 0 1 1 0 1 0 0 0 0 0 0 1 0 1 1\n",
      " 1 1 1 1 0 0 0 1 1 0 1 0 0 0 1 0 1 1 1 0 1 0 1 1 0 1 1 1 0 1 0 1 1 0 1 0 1\n",
      " 1 1 1 1 1 1 0 1 1 1 1 1 1 0 1 1 0 1 0 1 1 1 1 0 0 0 1 1 1 1 1 0 1 1 0 0 1\n",
      " 1 1 0 1 1 0 0 0 1 1 1 1 1 1 0 1 0 1 0 1]\n"
     ]
    }
   ],
   "source": [
    "y_pred_class = ada.predict(test_final[features])\n",
    "test_final['bot'] = y_pred_class\n",
    "print y_pred_class"
   ]
  },
  {
   "cell_type": "code",
   "execution_count": 80,
   "metadata": {
    "collapsed": false
   },
   "outputs": [
    {
     "name": "stdout",
     "output_type": "stream",
     "text": [
      "[ 0.91964286  0.9058296   0.9058296   0.92376682  0.91928251  0.93273543\n",
      "  0.88789238  0.92825112  0.93721973  0.94594595] 0.920639597798\n"
     ]
    }
   ],
   "source": [
    "a_svm = cross_val_score(ada, train[features], train['bot'], cv=10)\n",
    "print a_svm,np.mean(a_svm)"
   ]
  },
  {
   "cell_type": "code",
   "execution_count": 28,
   "metadata": {
    "collapsed": false
   },
   "outputs": [
    {
     "data": {
      "text/html": [
       "<div>\n",
       "<table border=\"1\" class=\"dataframe\">\n",
       "  <thead>\n",
       "    <tr style=\"text-align: right;\">\n",
       "      <th></th>\n",
       "      <th>bot</th>\n",
       "    </tr>\n",
       "  </thead>\n",
       "  <tbody>\n",
       "    <tr>\n",
       "      <th>0</th>\n",
       "      <td>0</td>\n",
       "    </tr>\n",
       "    <tr>\n",
       "      <th>1</th>\n",
       "      <td>0</td>\n",
       "    </tr>\n",
       "    <tr>\n",
       "      <th>2</th>\n",
       "      <td>0</td>\n",
       "    </tr>\n",
       "    <tr>\n",
       "      <th>3</th>\n",
       "      <td>0</td>\n",
       "    </tr>\n",
       "    <tr>\n",
       "      <th>4</th>\n",
       "      <td>1</td>\n",
       "    </tr>\n",
       "    <tr>\n",
       "      <th>5</th>\n",
       "      <td>1</td>\n",
       "    </tr>\n",
       "    <tr>\n",
       "      <th>6</th>\n",
       "      <td>1</td>\n",
       "    </tr>\n",
       "    <tr>\n",
       "      <th>7</th>\n",
       "      <td>1</td>\n",
       "    </tr>\n",
       "    <tr>\n",
       "      <th>8</th>\n",
       "      <td>1</td>\n",
       "    </tr>\n",
       "    <tr>\n",
       "      <th>9</th>\n",
       "      <td>0</td>\n",
       "    </tr>\n",
       "  </tbody>\n",
       "</table>\n",
       "</div>"
      ],
      "text/plain": [
       "   bot\n",
       "0    0\n",
       "1    0\n",
       "2    0\n",
       "3    0\n",
       "4    1\n",
       "5    1\n",
       "6    1\n",
       "7    1\n",
       "8    1\n",
       "9    0"
      ]
     },
     "execution_count": 28,
     "metadata": {},
     "output_type": "execute_result"
    }
   ],
   "source": [
    "ttd = pd.DataFrame()\n",
    "ttd['bot'] = y_pred_class\n",
    "#ttd['id'] = test_final_id.astype('int64')\n",
    "ttd.to_csv('example_log_ada_entire_train.csv', index = False)\n",
    "ttd.head(10)"
   ]
  },
  {
   "cell_type": "code",
   "execution_count": 90,
   "metadata": {
    "collapsed": false
   },
   "outputs": [
    {
     "name": "stdout",
     "output_type": "stream",
     "text": [
      "Optimal number of features : 16\n"
     ]
    },
    {
     "data": {
      "image/png": "[encoded data removed]",
      "text/plain": [
       "<matplotlib.figure.Figure at 0x63484a8>"
      ]
     },
     "metadata": {},
     "output_type": "display_data"
    }
   ],
   "source": [
    "from sklearn.model_selection import StratifiedKFold\n",
    "from sklearn.feature_selection import RFECV\n",
    "\n",
    "rfecv = RFECV(estimator=rf_clf, step=1, cv= 10, scoring='accuracy')\n",
    "rfecv.fit(train[features], train['bot'])\n",
    "\n",
    "print(\"Optimal number of features : %d\" % rfecv.n_features_)\n",
    "\n",
    "# Plot number of features VS. cross-validation scores\n",
    "plt.figure()\n",
    "plt.xlabel(\"Number of features selected\")\n",
    "plt.ylabel(\"Cross validation score (nb of correct classifications)\")\n",
    "plt.plot(range(1, len(rfecv.grid_scores_) + 1), rfecv.grid_scores_)\n",
    "plt.show()"
   ]
  },
  {
   "cell_type": "code",
   "execution_count": 92,
   "metadata": {
    "collapsed": false
   },
   "outputs": [
    {
     "name": "stdout",
     "output_type": "stream",
     "text": [
      "(0.83946130627744986, 'friends_count')\n",
      "(0.8775685198330937, 'favourites_count')\n",
      "(0.8775845712785173, 'followers_count')\n",
      "(0.89459306159138008, 'verified')\n",
      "(0.89999437297643559, 'acc_age')\n",
      "(0.9008731805957142, 'listedcount')\n",
      "(0.90356581958319615, 'ff_ratio')\n",
      "(0.90626042442185928, 'name_bot_bool')\n",
      "(0.90986402802546296, 'statuses_count')\n",
      "(0.91028432340091547, 'tweets_per_day')\n",
      "(0.9112314849282338, 'avg_In_reply')\n",
      "(0.91255062517674612, 'desc_bot_bool')\n",
      "(0.9148008935424855, 'avg_fav_count')\n",
      "(0.91615224489383684, 'avg_total_usrmention')\n",
      "(0.91703704024331822, 'avg_retweet_count')\n",
      "(0.91794194498790915, 'days_std')\n"
     ]
    }
   ],
   "source": [
    "for x in sorted(zip(rfecv.grid_scores_,train[features])):\n",
    "    print x"
   ]
  },
  {
   "cell_type": "code",
   "execution_count": 49,
   "metadata": {
    "collapsed": false
   },
   "outputs": [],
   "source": [
    "features = ['In_reply','acc_age','avg_In_reply','avg_fav_count','avg_retweet_count','avg_total_usrmention','days_std',\n",
    "            'default_profile','fav_count','favourites_count','ff_ratio','followers_count','friends_count','has_extended_profile',\\\n",
    "            'hours_std','listedcount','nameratio','null_url','retweet_count','name_bot_bool','desc_bot_bool','n_count',\\\n",
    "            'sn_length','total_usrmention','tweets_per_day','verified']"
   ]
  },
  {
   "cell_type": "code",
   "execution_count": 88,
   "metadata": {
    "collapsed": false
   },
   "outputs": [],
   "source": [
    "from sklearn.preprocessing import PolynomialFeatures,StandardScaler\n",
    "train_ss = StandardScaler().fit(train[features])\n",
    "train_poly = train_ss.transform(train[features])\n",
    "test_poly = train_ss.transform(test[features])\n",
    "test_final_poly = train_ss.transform(test_final[features])"
   ]
  },
  {
   "cell_type": "code",
   "execution_count": null,
   "metadata": {
    "collapsed": true
   },
   "outputs": [],
   "source": []
  },
  {
   "cell_type": "code",
   "execution_count": 77,
   "metadata": {
    "collapsed": true
   },
   "outputs": [],
   "source": [
    "from sklearn.neural_network import MLPClassifier\n",
    "clf_mlp = MLPClassifier(solver='lbfgs', alpha=0.001,hidden_layer_sizes=(17,10), random_state=1,\n",
    "                    activation='tanh',tol=0.000001,warm_start = 'false')"
   ]
  },
  {
   "cell_type": "code",
   "execution_count": 80,
   "metadata": {
    "collapsed": false
   },
   "outputs": [
    {
     "name": "stdout",
     "output_type": "stream",
     "text": [
      "0.878136200717\n",
      "0.868217054264\n",
      "[ 0.88392857  0.88789238  0.91479821  0.90134529  0.85650224  0.86547085\n",
      "  0.89686099  0.86547085  0.87443946  0.86036036]\n",
      "0.880706920085\n"
     ]
    }
   ],
   "source": [
    "clf_mlp.fit(train_poly, train['bot'])\n",
    "y_pred = clf_mlp.predict(test_poly)\n",
    "print accuracy_score(test['bot'], y_pred)\n",
    "\n",
    "print f1_score(test['bot'], y_pred)\n",
    "\n",
    "a = cross_val_score(clf_mlp, train_poly, train['bot'], cv=10)\n",
    "print a\n",
    "print a.mean()"
   ]
  },
  {
   "cell_type": "code",
   "execution_count": 83,
   "metadata": {
    "collapsed": true
   },
   "outputs": [],
   "source": [
    "from sklearn import tree\n",
    "clf_tree = tree.DecisionTreeClassifier(max_depth = 7, min_impurity_split = 0.00000001)\n",
    "clf_tree = clf_tree.fit(train[features], train['bot'])\n",
    "y_pred_tree = clf_tree.predict(test[features])"
   ]
  },
  {
   "cell_type": "code",
   "execution_count": 84,
   "metadata": {
    "collapsed": false
   },
   "outputs": [
    {
     "name": "stdout",
     "output_type": "stream",
     "text": [
      "[ 0.89732143  0.89686099  0.87443946  0.9058296   0.89686099  0.9103139\n",
      "  0.86995516  0.9058296   0.87892377  0.8963964 ]\n",
      "0.893273127788\n"
     ]
    }
   ],
   "source": [
    "a = cross_val_score(clf_tree, train[features], train['bot'], cv=10)\n",
    "print a\n",
    "print a.mean()"
   ]
  },
  {
   "cell_type": "code",
   "execution_count": 85,
   "metadata": {
    "collapsed": false
   },
   "outputs": [
    {
     "name": "stdout",
     "output_type": "stream",
     "text": [
      "0.886639676113\n"
     ]
    }
   ],
   "source": [
    "print f1_score(test['bot'], y_pred_tree)"
   ]
  },
  {
   "cell_type": "code",
   "execution_count": null,
   "metadata": {
    "collapsed": true
   },
   "outputs": [],
   "source": [
    "0.897849462366\n",
    "[ 0.88839286  0.87892377  0.91928251  0.9058296   0.89237668  0.91479821\n",
    "  0.88340807  0.86547085  0.91479821  0.8963964 ]"
   ]
  }
 ],
 "metadata": {
  "kernelspec": {
   "display_name": "Python 2",
   "language": "python",
   "name": "python2"
  },
  "language_info": {
   "codemirror_mode": {
    "name": "ipython",
    "version": 2
   },
   "file_extension": ".py",
   "mimetype": "text/x-python",
   "name": "python",
   "nbconvert_exporter": "python",
   "pygments_lexer": "ipython2",
   "version": "2.7.13"
  }
 },
 "nbformat": 4,
 "nbformat_minor": 2
}
