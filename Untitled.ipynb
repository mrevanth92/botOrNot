{
 "cells": [
  {
   "cell_type": "code",
   "execution_count": 23,
   "metadata": {
    "collapsed": true
   },
   "outputs": [],
   "source": [
    "import numpy as np\n",
    "import pandas as pd\n",
    "import glob\n",
    "import string\n",
    "\n",
    "import sys,traceback\n",
    "import ast\n",
    "from datetime import date\n",
    "import datetime as dt\n",
    "import json\n",
    "\n",
    "from scipy import stats\n",
    "from sklearn.model_selection import train_test_split,cross_val_score\n",
    "from nltk.tag import pos_tag\n",
    "import nltk\n",
    "\n",
    "import matplotlib.pyplot as plt\n",
    "import seaborn as sns\n",
    "\n",
    "from sklearn import preprocessing\n",
    "\n",
    "from sklearn.linear_model import LogisticRegression\n",
    "\n",
    "from sklearn.metrics import make_scorer, accuracy_score, confusion_matrix\n",
    "\n",
    "from sklearn.preprocessing import Imputer\n",
    "\n",
    "%matplotlib inline"
   ]
  },
  {
   "cell_type": "code",
   "execution_count": 24,
   "metadata": {
    "collapsed": true
   },
   "outputs": [],
   "source": [
    "train = pd.read_csv(\"./kaggle/Cleaned_TrainData.csv\")\n",
    "test_final = pd.read_csv(\"./kaggle/Cleaned_TestData.csv\")\n",
    "train_tweet = pd.read_csv(\"./kaggle/Train_Tweets.csv\")"
   ]
  },
  {
   "cell_type": "code",
   "execution_count": 39,
   "metadata": {
    "collapsed": false
   },
   "outputs": [],
   "source": [
    "train_tweet = train_tweet.drop_duplicates('screen_name', keep='first')"
   ]
  },
  {
   "cell_type": "code",
   "execution_count": 5,
   "metadata": {
    "collapsed": true
   },
   "outputs": [],
   "source": []
  },
  {
   "cell_type": "code",
   "execution_count": 6,
   "metadata": {
    "collapsed": false
   },
   "outputs": [],
   "source": []
  },
  {
   "cell_type": "code",
   "execution_count": 25,
   "metadata": {
    "collapsed": false
   },
   "outputs": [],
   "source": [
    "import time\n",
    "from dateutil import parser\n",
    "def datetime_to_num(df):\n",
    "    # convert string to time object\n",
    "    for index,row in df.iterrows():\n",
    "        days = [0 for _ in range(7)]\n",
    "        hours = [0 for _ in range(24)]\n",
    "        x = row['created_at_tweets'][1:-1]\n",
    "        x =x.split(',')\n",
    "        for time_date in x:\n",
    "            time_date = time_date[1:-1]\n",
    "            time_date = time_date.strip()\n",
    "            if time_date:\n",
    "                tweet_date = parser.parse(time_date)\n",
    "                days[tweet_date.weekday()] += 1\n",
    "                hours[tweet_date.hour] += 1\n",
    "        df.loc[index, 'days_std']  = stats.kstest(days,'uniform')[0]\n",
    "        df.loc[index, 'hours_std'] = stats.kstest(hours,'uniform')[0]\n",
    "    return df"
   ]
  },
  {
   "cell_type": "code",
   "execution_count": 26,
   "metadata": {
    "collapsed": false
   },
   "outputs": [],
   "source": [
    "train_tweet = datetime_to_num(train_tweet)"
   ]
  },
  {
   "cell_type": "code",
   "execution_count": 27,
   "metadata": {
    "collapsed": false
   },
   "outputs": [
    {
     "data": {
      "text/html": [
       "<div>\n",
       "<table border=\"1\" class=\"dataframe\">\n",
       "  <thead>\n",
       "    <tr style=\"text-align: right;\">\n",
       "      <th></th>\n",
       "      <th>screen_name</th>\n",
       "      <th>In_reply</th>\n",
       "      <th>retweet_count</th>\n",
       "      <th>fav_count</th>\n",
       "      <th>total_usrmention</th>\n",
       "      <th>created_at_tweets</th>\n",
       "      <th>texts</th>\n",
       "      <th>days_std</th>\n",
       "      <th>hours_std</th>\n",
       "    </tr>\n",
       "  </thead>\n",
       "  <tbody>\n",
       "    <tr>\n",
       "      <th>0</th>\n",
       "      <td>HoustonPokeMap</td>\n",
       "      <td>0</td>\n",
       "      <td>0</td>\n",
       "      <td>0</td>\n",
       "      <td>0</td>\n",
       "      <td>['Sat May 06 03:02:03 +0000 2017', 'Sat May 06...</td>\n",
       "      <td>['[Washington Ave./ Memorial Park] Donphan (F)...</td>\n",
       "      <td>0.714286</td>\n",
       "      <td>0.750000</td>\n",
       "    </tr>\n",
       "    <tr>\n",
       "      <th>1</th>\n",
       "      <td>kernyeahx</td>\n",
       "      <td>0</td>\n",
       "      <td>50</td>\n",
       "      <td>0</td>\n",
       "      <td>66</td>\n",
       "      <td>['Fri Apr 28 12:32:43 +0000 2017', 'Thu Apr 27...</td>\n",
       "      <td>['RT @syeddoha: TY my friend. Willkommen #Doha...</td>\n",
       "      <td>1.000000</td>\n",
       "      <td>0.875000</td>\n",
       "    </tr>\n",
       "    <tr>\n",
       "      <th>2</th>\n",
       "      <td>mattlieberisbot</td>\n",
       "      <td>0</td>\n",
       "      <td>13</td>\n",
       "      <td>72</td>\n",
       "      <td>0</td>\n",
       "      <td>['Fri May 05 20:00:01 +0000 2017', 'Fri May 05...</td>\n",
       "      <td>['Matt Lieber is a better and everlasting spou...</td>\n",
       "      <td>0.571429</td>\n",
       "      <td>0.833333</td>\n",
       "    </tr>\n",
       "    <tr>\n",
       "      <th>3</th>\n",
       "      <td>sc_papers</td>\n",
       "      <td>0</td>\n",
       "      <td>6</td>\n",
       "      <td>14</td>\n",
       "      <td>0</td>\n",
       "      <td>['Fri May 05 10:08:06 +0000 2017', 'Thu May 04...</td>\n",
       "      <td>['Single cell RNA sequencing to dissect the mo...</td>\n",
       "      <td>1.000000</td>\n",
       "      <td>0.666667</td>\n",
       "    </tr>\n",
       "    <tr>\n",
       "      <th>4</th>\n",
       "      <td>lucarivera16</td>\n",
       "      <td>0</td>\n",
       "      <td>100</td>\n",
       "      <td>0</td>\n",
       "      <td>162</td>\n",
       "      <td>['Sat Apr 29 18:53:17 +0000 2017', 'Fri Apr 28...</td>\n",
       "      <td>['RT @RightWingAngel: Dear #TrumpTrain Vote Ma...</td>\n",
       "      <td>1.000000</td>\n",
       "      <td>1.000000</td>\n",
       "    </tr>\n",
       "  </tbody>\n",
       "</table>\n",
       "</div>"
      ],
      "text/plain": [
       "       screen_name  In_reply  retweet_count  fav_count  total_usrmention  \\\n",
       "0   HoustonPokeMap         0              0          0                 0   \n",
       "1        kernyeahx         0             50          0                66   \n",
       "2  mattlieberisbot         0             13         72                 0   \n",
       "3        sc_papers         0              6         14                 0   \n",
       "4     lucarivera16         0            100          0               162   \n",
       "\n",
       "                                   created_at_tweets  \\\n",
       "0  ['Sat May 06 03:02:03 +0000 2017', 'Sat May 06...   \n",
       "1  ['Fri Apr 28 12:32:43 +0000 2017', 'Thu Apr 27...   \n",
       "2  ['Fri May 05 20:00:01 +0000 2017', 'Fri May 05...   \n",
       "3  ['Fri May 05 10:08:06 +0000 2017', 'Thu May 04...   \n",
       "4  ['Sat Apr 29 18:53:17 +0000 2017', 'Fri Apr 28...   \n",
       "\n",
       "                                               texts  days_std  hours_std  \n",
       "0  ['[Washington Ave./ Memorial Park] Donphan (F)...  0.714286   0.750000  \n",
       "1  ['RT @syeddoha: TY my friend. Willkommen #Doha...  1.000000   0.875000  \n",
       "2  ['Matt Lieber is a better and everlasting spou...  0.571429   0.833333  \n",
       "3  ['Single cell RNA sequencing to dissect the mo...  1.000000   0.666667  \n",
       "4  ['RT @RightWingAngel: Dear #TrumpTrain Vote Ma...  1.000000   1.000000  "
      ]
     },
     "execution_count": 27,
     "metadata": {},
     "output_type": "execute_result"
    }
   ],
   "source": [
    "train_tweet.head()"
   ]
  },
  {
   "cell_type": "code",
   "execution_count": 29,
   "metadata": {
    "collapsed": true
   },
   "outputs": [],
   "source": [
    "T1 = pd.merge(train, train_tweet, on='screen_name', how='outer')\n",
    "T1 = T1.drop_duplicates('screen_name', keep='first')"
   ]
  },
  {
   "cell_type": "code",
   "execution_count": 30,
   "metadata": {
    "collapsed": true
   },
   "outputs": [],
   "source": [
    "train =T1\n",
    "train, test = train_test_split(train, test_size = 0.2)"
   ]
  },
  {
   "cell_type": "code",
   "execution_count": 31,
   "metadata": {
    "collapsed": false
   },
   "outputs": [
    {
     "data": {
      "text/html": [
       "<div>\n",
       "<table border=\"1\" class=\"dataframe\">\n",
       "  <thead>\n",
       "    <tr style=\"text-align: right;\">\n",
       "      <th></th>\n",
       "      <th>id</th>\n",
       "      <th>id_str</th>\n",
       "      <th>screen_name</th>\n",
       "      <th>location</th>\n",
       "      <th>description</th>\n",
       "      <th>url</th>\n",
       "      <th>followers_count</th>\n",
       "      <th>friends_count</th>\n",
       "      <th>listedcount</th>\n",
       "      <th>created_at</th>\n",
       "      <th>...</th>\n",
       "      <th>name</th>\n",
       "      <th>bot</th>\n",
       "      <th>In_reply</th>\n",
       "      <th>retweet_count</th>\n",
       "      <th>fav_count</th>\n",
       "      <th>total_usrmention</th>\n",
       "      <th>created_at_tweets</th>\n",
       "      <th>texts</th>\n",
       "      <th>days_std</th>\n",
       "      <th>hours_std</th>\n",
       "    </tr>\n",
       "  </thead>\n",
       "  <tbody>\n",
       "    <tr>\n",
       "      <th>75</th>\n",
       "      <td>7.99E+17</td>\n",
       "      <td>7.99E+17</td>\n",
       "      <td>libraryofvivec</td>\n",
       "      <td>NaN</td>\n",
       "      <td>artisanal bot by @Objelisks</td>\n",
       "      <td>https://t.co/qguhPByJBB</td>\n",
       "      <td>16</td>\n",
       "      <td>0</td>\n",
       "      <td>6</td>\n",
       "      <td>11/16/16 8:04</td>\n",
       "      <td>...</td>\n",
       "      <td>Library of Vivec</td>\n",
       "      <td>1</td>\n",
       "      <td>0.0</td>\n",
       "      <td>1.0</td>\n",
       "      <td>8.0</td>\n",
       "      <td>0.0</td>\n",
       "      <td>['Sat May 06 02:35:01 +0000 2017', 'Sat May 06...</td>\n",
       "      <td>['wedding day, there was certainly something s...</td>\n",
       "      <td>1.000000</td>\n",
       "      <td>0.500000</td>\n",
       "    </tr>\n",
       "    <tr>\n",
       "      <th>733</th>\n",
       "      <td>2620118677</td>\n",
       "      <td>2620118677</td>\n",
       "      <td>yes_ofc</td>\n",
       "      <td>yeah</td>\n",
       "      <td>of course // by @thricedotted</td>\n",
       "      <td>NaN</td>\n",
       "      <td>37</td>\n",
       "      <td>0</td>\n",
       "      <td>12</td>\n",
       "      <td>7/12/14 1:59</td>\n",
       "      <td>...</td>\n",
       "      <td>yes</td>\n",
       "      <td>1</td>\n",
       "      <td>86.0</td>\n",
       "      <td>1.0</td>\n",
       "      <td>25.0</td>\n",
       "      <td>393.0</td>\n",
       "      <td>['Mon Oct 13 15:47:31 +0000 2014', 'Mon Oct 13...</td>\n",
       "      <td>['@butt_things @NaiveQuestions @mannan4real @h...</td>\n",
       "      <td>0.571429</td>\n",
       "      <td>0.500000</td>\n",
       "    </tr>\n",
       "    <tr>\n",
       "      <th>1575</th>\n",
       "      <td>23176276</td>\n",
       "      <td>23176276</td>\n",
       "      <td>MeghanMcCain</td>\n",
       "      <td>Arizonan/New Yorker</td>\n",
       "      <td>Co-host of @OutNumberedFNC on @FoxNews at 12 E...</td>\n",
       "      <td>NaN</td>\n",
       "      <td>324528</td>\n",
       "      <td>597</td>\n",
       "      <td>6517</td>\n",
       "      <td>3/7/09 7:49</td>\n",
       "      <td>...</td>\n",
       "      <td>Meghan McCain</td>\n",
       "      <td>0</td>\n",
       "      <td>32.0</td>\n",
       "      <td>85.0</td>\n",
       "      <td>52.0</td>\n",
       "      <td>189.0</td>\n",
       "      <td>['Sat May 06 00:34:23 +0000 2017', 'Fri May 05...</td>\n",
       "      <td>['@HansFiene Hahahahahaha', '@AndreaNRuth @Del...</td>\n",
       "      <td>1.000000</td>\n",
       "      <td>0.750000</td>\n",
       "    </tr>\n",
       "    <tr>\n",
       "      <th>2028</th>\n",
       "      <td>8.27E+17</td>\n",
       "      <td>8.27E+17</td>\n",
       "      <td>hacktheban</td>\n",
       "      <td>Brooklyn, NY</td>\n",
       "      <td>Matching creatives and technologists with orga...</td>\n",
       "      <td>https://t.co/V7EEv8dONj</td>\n",
       "      <td>545</td>\n",
       "      <td>1140</td>\n",
       "      <td>12</td>\n",
       "      <td>2/2/17 20:19</td>\n",
       "      <td>...</td>\n",
       "      <td>Hack the Ban</td>\n",
       "      <td>0</td>\n",
       "      <td>16.0</td>\n",
       "      <td>79.0</td>\n",
       "      <td>33.0</td>\n",
       "      <td>215.0</td>\n",
       "      <td>['Sat May 06 03:57:21 +0000 2017', 'Sat May 06...</td>\n",
       "      <td>['The young, the seasoned and the #HackTheBanD...</td>\n",
       "      <td>1.000000</td>\n",
       "      <td>0.583333</td>\n",
       "    </tr>\n",
       "    <tr>\n",
       "      <th>2503</th>\n",
       "      <td>635798671</td>\n",
       "      <td>635798671</td>\n",
       "      <td>Zmezzo412</td>\n",
       "      <td>New York</td>\n",
       "      <td>Here's a thing</td>\n",
       "      <td>https://t.co/8dzSVOfMZ9</td>\n",
       "      <td>251</td>\n",
       "      <td>550</td>\n",
       "      <td>1</td>\n",
       "      <td>7/15/12 1:16</td>\n",
       "      <td>...</td>\n",
       "      <td>Zach Mezzo</td>\n",
       "      <td>0</td>\n",
       "      <td>9.0</td>\n",
       "      <td>76.0</td>\n",
       "      <td>19.0</td>\n",
       "      <td>85.0</td>\n",
       "      <td>['Fri May 05 21:38:18 +0000 2017', 'Fri May 05...</td>\n",
       "      <td>['RT @MenInBlazers: THERE IS HOPE SPURS FANS. ...</td>\n",
       "      <td>1.000000</td>\n",
       "      <td>0.791667</td>\n",
       "    </tr>\n",
       "  </tbody>\n",
       "</table>\n",
       "<p>5 rows × 28 columns</p>\n",
       "</div>"
      ],
      "text/plain": [
       "              id      id_str     screen_name             location  \\\n",
       "75      7.99E+17    7.99E+17  libraryofvivec                  NaN   \n",
       "733   2620118677  2620118677         yes_ofc                 yeah   \n",
       "1575    23176276    23176276    MeghanMcCain  Arizonan/New Yorker   \n",
       "2028    8.27E+17    8.27E+17      hacktheban         Brooklyn, NY   \n",
       "2503   635798671   635798671       Zmezzo412             New York   \n",
       "\n",
       "                                            description  \\\n",
       "75                          artisanal bot by @Objelisks   \n",
       "733                       of course // by @thricedotted   \n",
       "1575  Co-host of @OutNumberedFNC on @FoxNews at 12 E...   \n",
       "2028  Matching creatives and technologists with orga...   \n",
       "2503                                     Here's a thing   \n",
       "\n",
       "                          url  followers_count  friends_count  listedcount  \\\n",
       "75    https://t.co/qguhPByJBB               16              0            6   \n",
       "733                       NaN               37              0           12   \n",
       "1575                      NaN           324528            597         6517   \n",
       "2028  https://t.co/V7EEv8dONj              545           1140           12   \n",
       "2503  https://t.co/8dzSVOfMZ9              251            550            1   \n",
       "\n",
       "         created_at    ...                  name bot  In_reply retweet_count  \\\n",
       "75    11/16/16 8:04    ...      Library of Vivec   1       0.0           1.0   \n",
       "733    7/12/14 1:59    ...                   yes   1      86.0           1.0   \n",
       "1575    3/7/09 7:49    ...         Meghan McCain   0      32.0          85.0   \n",
       "2028   2/2/17 20:19    ...          Hack the Ban   0      16.0          79.0   \n",
       "2503   7/15/12 1:16    ...            Zach Mezzo   0       9.0          76.0   \n",
       "\n",
       "     fav_count total_usrmention  \\\n",
       "75         8.0              0.0   \n",
       "733       25.0            393.0   \n",
       "1575      52.0            189.0   \n",
       "2028      33.0            215.0   \n",
       "2503      19.0             85.0   \n",
       "\n",
       "                                      created_at_tweets  \\\n",
       "75    ['Sat May 06 02:35:01 +0000 2017', 'Sat May 06...   \n",
       "733   ['Mon Oct 13 15:47:31 +0000 2014', 'Mon Oct 13...   \n",
       "1575  ['Sat May 06 00:34:23 +0000 2017', 'Fri May 05...   \n",
       "2028  ['Sat May 06 03:57:21 +0000 2017', 'Sat May 06...   \n",
       "2503  ['Fri May 05 21:38:18 +0000 2017', 'Fri May 05...   \n",
       "\n",
       "                                                  texts  days_std  hours_std  \n",
       "75    ['wedding day, there was certainly something s...  1.000000   0.500000  \n",
       "733   ['@butt_things @NaiveQuestions @mannan4real @h...  0.571429   0.500000  \n",
       "1575  ['@HansFiene Hahahahahaha', '@AndreaNRuth @Del...  1.000000   0.750000  \n",
       "2028  ['The young, the seasoned and the #HackTheBanD...  1.000000   0.583333  \n",
       "2503  ['RT @MenInBlazers: THERE IS HOPE SPURS FANS. ...  1.000000   0.791667  \n",
       "\n",
       "[5 rows x 28 columns]"
      ]
     },
     "execution_count": 31,
     "metadata": {},
     "output_type": "execute_result"
    }
   ],
   "source": [
    "train.head()"
   ]
  },
  {
   "cell_type": "code",
   "execution_count": 32,
   "metadata": {
    "collapsed": false
   },
   "outputs": [
    {
     "data": {
      "text/plain": [
       "<matplotlib.axes._subplots.AxesSubplot at 0x104e5780>"
      ]
     },
     "execution_count": 32,
     "metadata": {},
     "output_type": "execute_result"
    },
    {
     "data": {
      "image/png": "[encoded data removed]",
      "text/plain": [
       "<matplotlib.figure.Figure at 0xcbcc438>"
      ]
     },
     "metadata": {},
     "output_type": "display_data"
    }
   ],
   "source": [
    "plt.title('Bot count between Verified account', size=20, y=1.1)\n",
    "sns.countplot(x = 'days_std', hue='bot', data=train)"
   ]
  },
  {
   "cell_type": "code",
   "execution_count": 33,
   "metadata": {
    "collapsed": false
   },
   "outputs": [
    {
     "data": {
      "text/plain": [
       "<matplotlib.axes._subplots.AxesSubplot at 0x148b4a58>"
      ]
     },
     "execution_count": 33,
     "metadata": {},
     "output_type": "execute_result"
    },
    {
     "data": {
      "image/png": "[encoded data removed]",
      "text/plain": [
       "<matplotlib.figure.Figure at 0xfb543c8>"
      ]
     },
     "metadata": {},
     "output_type": "display_data"
    }
   ],
   "source": [
    "plt.title('Bot count between Verified account', size=20, y=1.1)\n",
    "sns.countplot(x = 'hours_std', hue='bot', data=train)"
   ]
  },
  {
   "cell_type": "code",
   "execution_count": null,
   "metadata": {
    "collapsed": true
   },
   "outputs": [],
   "source": []
  }
 ],
 "metadata": {
  "kernelspec": {
   "display_name": "Python 2",
   "language": "python",
   "name": "python2"
  },
  "language_info": {
   "codemirror_mode": {
    "name": "ipython",
    "version": 2
   },
   "file_extension": ".py",
   "mimetype": "text/x-python",
   "name": "python",
   "nbconvert_exporter": "python",
   "pygments_lexer": "ipython2",
   "version": "2.7.13"
  }
 },
 "nbformat": 4,
 "nbformat_minor": 2
}
