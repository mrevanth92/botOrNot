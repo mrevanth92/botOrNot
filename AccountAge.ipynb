{
 "cells": [
  {
   "cell_type": "code",
   "execution_count": 1,
   "metadata": {
    "collapsed": true
   },
   "outputs": [],
   "source": [
    "import numpy as np\n",
    "import pandas as pd\n",
    "import glob\n",
    "import string\n",
    "\n",
    "import sys,traceback\n",
    "import ast\n",
    "from datetime import date\n",
    "import datetime as dt\n",
    "import json\n",
    "\n",
    "from sklearn.model_selection import train_test_split,cross_val_score\n",
    "from nltk.tag import pos_tag\n",
    "import nltk\n",
    "\n",
    "import matplotlib.pyplot as plt\n",
    "import seaborn as sns\n",
    "\n",
    "from sklearn.linear_model import LogisticRegression\n",
    "\n",
    "%matplotlib inline"
   ]
  },
  {
   "cell_type": "code",
   "execution_count": 2,
   "metadata": {
    "collapsed": true
   },
   "outputs": [],
   "source": [
    "all_data = pd.DataFrame()\n",
    "for f in glob.glob(\"./data/*.csv\"):\n",
    "    df = pd.read_csv(f)\n",
    "    all_data = all_data.append(df,ignore_index=True)"
   ]
  },
  {
   "cell_type": "code",
   "execution_count": 3,
   "metadata": {
    "collapsed": true
   },
   "outputs": [],
   "source": [
    "train, test = train_test_split(all_data, test_size = 0.2)"
   ]
  },
  {
   "cell_type": "code",
   "execution_count": 4,
   "metadata": {
    "collapsed": false
   },
   "outputs": [
    {
     "data": {
      "text/plain": [
       "count                1931\n",
       "unique               1547\n",
       "top       11/3/2014 23:48\n",
       "freq                  129\n",
       "Name: created_at, dtype: object"
      ]
     },
     "execution_count": 4,
     "metadata": {},
     "output_type": "execute_result"
    }
   ],
   "source": [
    "train.created_at.describe()"
   ]
  },
  {
   "cell_type": "code",
   "execution_count": 5,
   "metadata": {
    "collapsed": true
   },
   "outputs": [],
   "source": [
    "def returnDates(x,valid):\n",
    "    formated_date = ''\n",
    "    months = {'Jan':1,'Feb':2,'Mar':3,'Apr':4,'May':5,'Jun':6,'Jul':7,'Aug':8,'Sep':9,'Oct':10,'Nov':11,'Dec':12}    \n",
    "    if x.startswith('\"') and x.endswith('\"'): x = x[1:-1]\n",
    "    if x.startswith(\"'\") and x.endswith(\"'\"): x = x[1:-1]\n",
    "    if x.startswith(\"'\"): x = x[1:]\n",
    "    date_split = x.split(' ')\n",
    "    if len(date_split) == 2:\n",
    "        _date = date_split[0].split('/')\n",
    "        #_date[2] = '20'+_date[2]\n",
    "        formated_date = '/'.join(map(str,_date))\n",
    "        time = date_split[1]\n",
    "        #print formated_date , date_split, pd.to_datetime(formated_date, format='%m%d%Y', errors='coerce')\n",
    "    \n",
    "    elif len(date_split) == 6:\n",
    "        m = months[date_split[1]]\n",
    "        formated_date = '/'.join(map(str,[m,date_split[2],date_split[5]]))\n",
    "        if formated_date[-1] == '\"': formated_date = formated_date[:-1]\n",
    "        #print formated_date, date_split, pd.to_datetime(formated_date, format='%m/%d/%Y', errors='coerce')    \n",
    "    \n",
    "    if valid:\n",
    "        return pd.to_datetime(formated_date, format='%m/%d/%Y', errors='coerce')\n",
    "    else:\n",
    "        return pd.to_datetime(time,format='%H:%M').hour"
   ]
  },
  {
   "cell_type": "code",
   "execution_count": 6,
   "metadata": {
    "collapsed": false
   },
   "outputs": [],
   "source": [
    "def lexical_diversity(text):\n",
    "  if len(text) == 0:\n",
    "    diversity = 0\n",
    "  else: \n",
    "    diversity = float(len(set(text))) / len(text)\n",
    "  return diversity\n",
    "    \n",
    "def get_Noun(x):\n",
    "    word = str(x).strip()\n",
    "    count = 0\n",
    "    tagged_sent = pos_tag(word.split())\n",
    "    for w in tagged_sent:\n",
    "        if w[1] == 'NNP':\n",
    "            count+=1\n",
    "    return count\n",
    "\n",
    "def return_dict(x):\n",
    "    if not pd.isnull(x) and x.find('_json=') != -1:\n",
    "        x = x[x.find('_json=')+6:x.find(', coordinates=')]\n",
    "        x = ast.literal_eval(x)\n",
    "        return x\n",
    "    else:\n",
    "        return None\n",
    "\n",
    "def status_created_date(x):\n",
    "    if not pd.isnull(x):\n",
    "        x = return_dict(x)\n",
    "        if x is not None:\n",
    "            x = returnDates(x['created_at'],True)\n",
    "            return x\n",
    "    return pd.to_datetime('04/08/2017', format='%m/%d/%Y', errors='coerce')\n",
    "\n",
    "def in_reply_stats(x):\n",
    "    x = return_dict(x)\n",
    "    if x is not None:\n",
    "        if x['in_reply_to_screen_name'] is not None:\n",
    "            return 1\n",
    "    return 0\n",
    "\n",
    "def tweet_text_data(x):\n",
    "    x = return_dict(x)\n",
    "    if x is not None:\n",
    "        return x['text']\n",
    "    return 'a'"
   ]
  },
  {
   "cell_type": "code",
   "execution_count": 7,
   "metadata": {
    "collapsed": false,
    "scrolled": false
   },
   "outputs": [
    {
     "name": "stderr",
     "output_type": "stream",
     "text": [
      "C:\\Users\\hp\\Anaconda2\\lib\\site-packages\\ipykernel\\__main__.py:2: SettingWithCopyWarning: \n",
      "A value is trying to be set on a copy of a slice from a DataFrame.\n",
      "Try using .loc[row_indexer,col_indexer] = value instead\n",
      "\n",
      "See the caveats in the documentation: http://pandas.pydata.org/pandas-docs/stable/indexing.html#indexing-view-versus-copy\n",
      "  from ipykernel import kernelapp as app\n",
      "C:\\Users\\hp\\Anaconda2\\lib\\site-packages\\pandas\\core\\indexing.py:297: SettingWithCopyWarning: \n",
      "A value is trying to be set on a copy of a slice from a DataFrame.\n",
      "Try using .loc[row_indexer,col_indexer] = value instead\n",
      "\n",
      "See the caveats in the documentation: http://pandas.pydata.org/pandas-docs/stable/indexing.html#indexing-view-versus-copy\n",
      "  self.obj[key] = _infer_fill_value(value)\n",
      "C:\\Users\\hp\\Anaconda2\\lib\\site-packages\\pandas\\core\\indexing.py:477: SettingWithCopyWarning: \n",
      "A value is trying to be set on a copy of a slice from a DataFrame.\n",
      "Try using .loc[row_indexer,col_indexer] = value instead\n",
      "\n",
      "See the caveats in the documentation: http://pandas.pydata.org/pandas-docs/stable/indexing.html#indexing-view-versus-copy\n",
      "  self.obj[item] = s\n",
      "C:\\Users\\hp\\Anaconda2\\lib\\site-packages\\ipykernel\\__main__.py:19: SettingWithCopyWarning: \n",
      "A value is trying to be set on a copy of a slice from a DataFrame.\n",
      "Try using .loc[row_indexer,col_indexer] = value instead\n",
      "\n",
      "See the caveats in the documentation: http://pandas.pydata.org/pandas-docs/stable/indexing.html#indexing-view-versus-copy\n",
      "C:\\Users\\hp\\Anaconda2\\lib\\site-packages\\ipykernel\\__main__.py:20: SettingWithCopyWarning: \n",
      "A value is trying to be set on a copy of a slice from a DataFrame.\n",
      "Try using .loc[row_indexer,col_indexer] = value instead\n",
      "\n",
      "See the caveats in the documentation: http://pandas.pydata.org/pandas-docs/stable/indexing.html#indexing-view-versus-copy\n",
      "C:\\Users\\hp\\Anaconda2\\lib\\site-packages\\ipykernel\\__main__.py:25: SettingWithCopyWarning: \n",
      "A value is trying to be set on a copy of a slice from a DataFrame.\n",
      "Try using .loc[row_indexer,col_indexer] = value instead\n",
      "\n",
      "See the caveats in the documentation: http://pandas.pydata.org/pandas-docs/stable/indexing.html#indexing-view-versus-copy\n",
      "C:\\Users\\hp\\Anaconda2\\lib\\site-packages\\ipykernel\\__main__.py:6: SettingWithCopyWarning: \n",
      "A value is trying to be set on a copy of a slice from a DataFrame.\n",
      "Try using .loc[row_indexer,col_indexer] = value instead\n",
      "\n",
      "See the caveats in the documentation: http://pandas.pydata.org/pandas-docs/stable/indexing.html#indexing-view-versus-copy\n",
      "C:\\Users\\hp\\Anaconda2\\lib\\site-packages\\pandas\\core\\generic.py:2773: SettingWithCopyWarning: \n",
      "A value is trying to be set on a copy of a slice from a DataFrame.\n",
      "Try using .loc[row_indexer,col_indexer] = value instead\n",
      "\n",
      "See the caveats in the documentation: http://pandas.pydata.org/pandas-docs/stable/indexing.html#indexing-view-versus-copy\n",
      "  self[name] = value\n",
      "C:\\Users\\hp\\Anaconda2\\lib\\site-packages\\ipykernel\\__main__.py:10: SettingWithCopyWarning: \n",
      "A value is trying to be set on a copy of a slice from a DataFrame.\n",
      "Try using .loc[row_indexer,col_indexer] = value instead\n",
      "\n",
      "See the caveats in the documentation: http://pandas.pydata.org/pandas-docs/stable/indexing.html#indexing-view-versus-copy\n",
      "C:\\Users\\hp\\Anaconda2\\lib\\site-packages\\ipykernel\\__main__.py:94: SettingWithCopyWarning: \n",
      "A value is trying to be set on a copy of a slice from a DataFrame.\n",
      "Try using .loc[row_indexer,col_indexer] = value instead\n",
      "\n",
      "See the caveats in the documentation: http://pandas.pydata.org/pandas-docs/stable/indexing.html#indexing-view-versus-copy\n"
     ]
    },
    {
     "data": {
      "text/html": [
       "<div>\n",
       "<table border=\"1\" class=\"dataframe\">\n",
       "  <thead>\n",
       "    <tr style=\"text-align: right;\">\n",
       "      <th></th>\n",
       "      <th>screen_name</th>\n",
       "      <th>description</th>\n",
       "      <th>url</th>\n",
       "      <th>followers_count</th>\n",
       "      <th>friends_count</th>\n",
       "      <th>listedcount</th>\n",
       "      <th>favourites_count</th>\n",
       "      <th>verified</th>\n",
       "      <th>statuses_count</th>\n",
       "      <th>default_profile</th>\n",
       "      <th>...</th>\n",
       "      <th>modified_hour</th>\n",
       "      <th>acc_age</th>\n",
       "      <th>tweets_per_day</th>\n",
       "      <th>in_reply_data</th>\n",
       "      <th>ff_ratio</th>\n",
       "      <th>tweet_text</th>\n",
       "      <th>sn_length</th>\n",
       "      <th>desc_length</th>\n",
       "      <th>diversity</th>\n",
       "      <th>null_url</th>\n",
       "    </tr>\n",
       "  </thead>\n",
       "  <tbody>\n",
       "    <tr>\n",
       "      <th>566</th>\n",
       "      <td>nope_nooope</td>\n",
       "      <td>NaN</td>\n",
       "      <td>NaN</td>\n",
       "      <td>184</td>\n",
       "      <td>2</td>\n",
       "      <td>10</td>\n",
       "      <td>0</td>\n",
       "      <td>False</td>\n",
       "      <td>1258</td>\n",
       "      <td>True</td>\n",
       "      <td>...</td>\n",
       "      <td>4</td>\n",
       "      <td>313</td>\n",
       "      <td>4.019169</td>\n",
       "      <td>0</td>\n",
       "      <td>92.000000</td>\n",
       "      <td>NOPE NOPE NOPE NOPE NOPE NOPE NOPE NOPE NOPE N...</td>\n",
       "      <td>11</td>\n",
       "      <td>3</td>\n",
       "      <td>0.454545</td>\n",
       "      <td>0</td>\n",
       "    </tr>\n",
       "    <tr>\n",
       "      <th>1658</th>\n",
       "      <td>skibluemountain</td>\n",
       "      <td>Official Twitter for Blue Mountain - PA's High...</td>\n",
       "      <td>https://t.co/fJQurMyW9f</td>\n",
       "      <td>11634</td>\n",
       "      <td>1274</td>\n",
       "      <td>253</td>\n",
       "      <td>5616</td>\n",
       "      <td>True</td>\n",
       "      <td>5901</td>\n",
       "      <td>False</td>\n",
       "      <td>...</td>\n",
       "      <td>16</td>\n",
       "      <td>3007</td>\n",
       "      <td>1.962421</td>\n",
       "      <td>0</td>\n",
       "      <td>9.131868</td>\n",
       "      <td>The votes are in, you're most excited for our ...</td>\n",
       "      <td>15</td>\n",
       "      <td>137</td>\n",
       "      <td>0.800000</td>\n",
       "      <td>1</td>\n",
       "    </tr>\n",
       "    <tr>\n",
       "      <th>487</th>\n",
       "      <td>man_products</td>\n",
       "      <td>PRODUCTS FOR MEN!! A bot by @NoraReed. Thanks ...</td>\n",
       "      <td>http://t.co/gvvOA90STT</td>\n",
       "      <td>2617</td>\n",
       "      <td>2</td>\n",
       "      <td>98</td>\n",
       "      <td>4</td>\n",
       "      <td>False</td>\n",
       "      <td>5814</td>\n",
       "      <td>False</td>\n",
       "      <td>...</td>\n",
       "      <td>6</td>\n",
       "      <td>697</td>\n",
       "      <td>8.341463</td>\n",
       "      <td>0</td>\n",
       "      <td>1308.500000</td>\n",
       "      <td>FINALLY: INDEPENDENT-SCENTED JERKY</td>\n",
       "      <td>12</td>\n",
       "      <td>83</td>\n",
       "      <td>1.000000</td>\n",
       "      <td>1</td>\n",
       "    </tr>\n",
       "    <tr>\n",
       "      <th>427</th>\n",
       "      <td>GraphicScoreBot</td>\n",
       "      <td>Hourly graphic scores to inspire musicians, co...</td>\n",
       "      <td>https://t.co/jgcn7jPp0t</td>\n",
       "      <td>602</td>\n",
       "      <td>2</td>\n",
       "      <td>42</td>\n",
       "      <td>0</td>\n",
       "      <td>False</td>\n",
       "      <td>10302</td>\n",
       "      <td>True</td>\n",
       "      <td>...</td>\n",
       "      <td>2</td>\n",
       "      <td>449</td>\n",
       "      <td>22.944321</td>\n",
       "      <td>0</td>\n",
       "      <td>301.000000</td>\n",
       "      <td>E N D</td>\n",
       "      <td>15</td>\n",
       "      <td>121</td>\n",
       "      <td>0.800000</td>\n",
       "      <td>1</td>\n",
       "    </tr>\n",
       "    <tr>\n",
       "      <th>1825</th>\n",
       "      <td>nightsailer</td>\n",
       "      <td>A Perl/PHP programmer, Co-founder &amp; Architect ...</td>\n",
       "      <td>http://t.co/iNLW4wOvZB</td>\n",
       "      <td>380</td>\n",
       "      <td>209</td>\n",
       "      <td>0</td>\n",
       "      <td>33</td>\n",
       "      <td>False</td>\n",
       "      <td>452</td>\n",
       "      <td>True</td>\n",
       "      <td>...</td>\n",
       "      <td>16</td>\n",
       "      <td>1875</td>\n",
       "      <td>0.241067</td>\n",
       "      <td>1</td>\n",
       "      <td>1.818182</td>\n",
       "      <td>@ParallelsCares I got a new computer but can't...</td>\n",
       "      <td>11</td>\n",
       "      <td>72</td>\n",
       "      <td>0.909091</td>\n",
       "      <td>1</td>\n",
       "    </tr>\n",
       "  </tbody>\n",
       "</table>\n",
       "<p>5 rows × 26 columns</p>\n",
       "</div>"
      ],
      "text/plain": [
       "          screen_name                                        description  \\\n",
       "566       nope_nooope                                                NaN   \n",
       "1658  skibluemountain  Official Twitter for Blue Mountain - PA's High...   \n",
       "487      man_products  PRODUCTS FOR MEN!! A bot by @NoraReed. Thanks ...   \n",
       "427   GraphicScoreBot  Hourly graphic scores to inspire musicians, co...   \n",
       "1825      nightsailer  A Perl/PHP programmer, Co-founder & Architect ...   \n",
       "\n",
       "                          url  followers_count  friends_count  listedcount  \\\n",
       "566                       NaN              184              2           10   \n",
       "1658  https://t.co/fJQurMyW9f            11634           1274          253   \n",
       "487    http://t.co/gvvOA90STT             2617              2           98   \n",
       "427   https://t.co/jgcn7jPp0t              602              2           42   \n",
       "1825   http://t.co/iNLW4wOvZB              380            209            0   \n",
       "\n",
       "      favourites_count verified  statuses_count default_profile    ...     \\\n",
       "566                  0    False            1258            True    ...      \n",
       "1658              5616     True            5901           False    ...      \n",
       "487                  4    False            5814           False    ...      \n",
       "427                  0    False           10302            True    ...      \n",
       "1825                33    False             452            True    ...      \n",
       "\n",
       "     modified_hour acc_age tweets_per_day  in_reply_data     ff_ratio  \\\n",
       "566              4     313       4.019169              0    92.000000   \n",
       "1658            16    3007       1.962421              0     9.131868   \n",
       "487              6     697       8.341463              0  1308.500000   \n",
       "427              2     449      22.944321              0   301.000000   \n",
       "1825            16    1875       0.241067              1     1.818182   \n",
       "\n",
       "                                             tweet_text  sn_length  \\\n",
       "566   NOPE NOPE NOPE NOPE NOPE NOPE NOPE NOPE NOPE N...         11   \n",
       "1658  The votes are in, you're most excited for our ...         15   \n",
       "487                  FINALLY: INDEPENDENT-SCENTED JERKY         12   \n",
       "427                                               E N D         15   \n",
       "1825  @ParallelsCares I got a new computer but can't...         11   \n",
       "\n",
       "      desc_length  diversity  null_url  \n",
       "566             3   0.454545         0  \n",
       "1658          137   0.800000         1  \n",
       "487            83   1.000000         1  \n",
       "427           121   0.800000         1  \n",
       "1825           72   0.909091         1  \n",
       "\n",
       "[5 rows x 26 columns]"
      ]
     },
     "execution_count": 7,
     "metadata": {},
     "output_type": "execute_result"
    }
   ],
   "source": [
    "def status_created_at(df):\n",
    "    df['status_created_at'] = df.status.apply(status_created_date)\n",
    "    return df\n",
    "\n",
    "def in_reply_data(df):\n",
    "    df['in_reply_data'] = df.status.apply(in_reply_stats)\n",
    "    return df\n",
    "\n",
    "def tweet_text(df):\n",
    "    df['tweet_text'] = df.status.apply(tweet_text_data)\n",
    "    return df\n",
    "\n",
    "def format_date(df):\n",
    "    df.loc[:,'modified_date'] = df.created_at.apply(lambda x: returnDates(x,True))\n",
    "    df.loc[:,'modified_hour'] = df.created_at.apply(lambda x: returnDates(x,False))\n",
    "    return df\n",
    "\n",
    "def account_age(df):\n",
    "    df['acc_age'] = (df['status_created_at'] - df['modified_date'])\n",
    "    df['acc_age'] = df.acc_age.apply(lambda  x:int(x.days))\n",
    "    for index,row in df.iterrows():\n",
    "        if row['acc_age'] < 0:\n",
    "            value = abs(int((pd.to_datetime('04/08/2017', format='%m/%d/%Y', errors='coerce') - pd.to_datetime(row['modified_date'])).days))\n",
    "            df.set_value(index,'acc_age',value)\n",
    "    df['acc_age'] += 1\n",
    "    return df;\n",
    "\n",
    "def tweets_per_day(df):\n",
    "    df.loc[:,'statuses_count']= df.statuses_count.apply(lambda x: int(x)+1)\n",
    "    df.loc[:,'tweets_per_day'] = df.statuses_count/df.acc_age\n",
    "    return df \n",
    "\n",
    "def ff_ratio(df):\n",
    "    df.followers_count = df.followers_count.apply(lambda x: int(x)+1)\n",
    "    df.friends_count = df.friends_count.apply(lambda x: int(x)+1)\n",
    "    df.loc[:,'ff_ratio'] = (df.followers_count/df.friends_count)\n",
    "    return df\n",
    "    \n",
    "def simplfy_followerscount(df):\n",
    "    bins = (0, 46,358,14917,96321560,sys.maxint)\n",
    "    group_names = ['1_quartile', '2_quartile', '3_quartile', '4_quartile', '5_quartile']\n",
    "    categories = pd.cut(df.followers_count, bins, labels=group_names)\n",
    "    df.followers_count = categories\n",
    "    return df  \n",
    "\n",
    "def simplfy_friendscount(df):\n",
    "    bins = (0, 10,197,671,978964,sys.maxint)\n",
    "    group_names = ['1_quartile', '2_quartile', '3_quartile', '4_quartile', '5_quartile']\n",
    "    categories = pd.cut(df['friends_count'], bins, labels=group_names)\n",
    "    df.friends_count = categories\n",
    "    return df    \n",
    "\n",
    "def simplfy_listedcount(df):\n",
    "    df.loc[:,'listedcount']= df.listedcount.apply(lambda x: int(x)+1)\n",
    "    bins = (0, 2,18,360,222411,sys.maxint)\n",
    "    group_names = ['1_quartile', '2_quartile', '3_quartile', '4_quartile', '5_quartile']\n",
    "    categories = pd.cut(df['listedcount'], bins, labels=group_names)\n",
    "    df.loc[:,'listedcount'] = categories\n",
    "    return df    \n",
    "\n",
    "def simplfy_favouritescount(df):\n",
    "    df.loc[:,'favourites_count']= df.favourites_count.apply(lambda x: int(x)+1)\n",
    "    bins = (0,2,25,484,714021,sys.maxint)\n",
    "    group_names = ['1_quartile', '2_quartile', '3_quartile', '4_quartile', '5_quartile']\n",
    "    categories = pd.cut(df.favourites_count, bins, labels=group_names)\n",
    "    df.loc[:,'favourites_count']= categories\n",
    "    return df  \n",
    "\n",
    "def simplfy_statusescount(df):\n",
    "    df.loc[:,'statuses_count']= df.statuses_count.apply(lambda x: int(x)+1)\n",
    "    bins = (0,178,2290,10025,6863363,sys.maxint)\n",
    "    group_names = ['1_quartile', '2_quartile', '3_quartile', '4_quartile', '5_quartile']\n",
    "    categories = pd.cut(df.statuses_count, bins, labels=group_names)\n",
    "    df.loc[:,'statuses_count']= categories\n",
    "    return df \n",
    "\n",
    "def drop_features(df):\n",
    "    return df.drop(['id', 'id_str', 'location','lang','status','created_at'], axis=1)\n",
    "\n",
    "def replace_None(df):\n",
    "    df.loc[:,'has_extended_profile'] = df['has_extended_profile'].fillna(df.has_extended_profile.median())\n",
    "    return df\n",
    "\n",
    "def format_date(df):\n",
    "    df.loc[:,'modified_date'] = df.created_at.apply(lambda x: returnDates(x,True))\n",
    "    df.loc[:,'modified_hour'] = df.created_at.apply(lambda x: returnDates(x,False))\n",
    "    return df\n",
    "\n",
    "def diversity(df):\n",
    "    df.loc[:,'description'].fillna(\"\")    \n",
    "    df.loc[:,'sn_length'] = df.screen_name.apply(lambda text: len(str(text)))\n",
    "    df.loc[:,'desc_length'] = df.description.apply(lambda text: len(str(text)))\n",
    "    grouped = df['screen_name']\n",
    "    df['diversity'] = grouped.apply(lexical_diversity)\n",
    "    df.loc[:,'null_url'] = df.url.apply(lambda x: 1 if (str(x).find('http'))!=-1 else 0)\n",
    "    return df\n",
    "\n",
    "def transform_features(df):\n",
    "    df = status_created_at(df)\n",
    "    df = format_date(df)\n",
    "    df = account_age(df)\n",
    "    df = tweets_per_day(df)\n",
    "    df = in_reply_data(df)\n",
    "    df = ff_ratio(df)\n",
    "    df = tweet_text(df)\n",
    "    #df = simplfy_followerscount(df)\n",
    "    #df = simplfy_friendscount(df)\n",
    "    #df = simplfy_listedcount(df)\n",
    "    #df = simplfy_favouritescount(df)\n",
    "    #df = simplfy_statusescount(df)   \n",
    "    df = replace_None(df)  \n",
    "    df = diversity(df)\n",
    "    df = drop_features(df)\n",
    "    return df\n",
    "\n",
    "train = transform_features(train)\n",
    "all_data = transform_features(all_data)\n",
    "train.head()"
   ]
  },
  {
   "cell_type": "code",
   "execution_count": 55,
   "metadata": {
    "collapsed": false
   },
   "outputs": [
    {
     "data": {
      "text/html": [
       "<div>\n",
       "<table border=\"1\" class=\"dataframe\">\n",
       "  <thead>\n",
       "    <tr style=\"text-align: right;\">\n",
       "      <th></th>\n",
       "      <th>screen_name</th>\n",
       "      <th>description</th>\n",
       "      <th>url</th>\n",
       "      <th>followers_count</th>\n",
       "      <th>friends_count</th>\n",
       "      <th>listedcount</th>\n",
       "      <th>favourites_count</th>\n",
       "      <th>verified</th>\n",
       "      <th>statuses_count</th>\n",
       "      <th>default_profile</th>\n",
       "      <th>...</th>\n",
       "      <th>modified_hour</th>\n",
       "      <th>acc_age</th>\n",
       "      <th>tweets_per_day</th>\n",
       "      <th>in_reply_data</th>\n",
       "      <th>ff_ratio</th>\n",
       "      <th>tweet_text</th>\n",
       "      <th>sn_length</th>\n",
       "      <th>desc_length</th>\n",
       "      <th>diversity</th>\n",
       "      <th>null_url</th>\n",
       "    </tr>\n",
       "  </thead>\n",
       "  <tbody>\n",
       "  </tbody>\n",
       "</table>\n",
       "<p>0 rows × 26 columns</p>\n",
       "</div>"
      ],
      "text/plain": [
       "Empty DataFrame\n",
       "Columns: [screen_name, description, url, followers_count, friends_count, listedcount, favourites_count, verified, statuses_count, default_profile, default_profile_image, has_extended_profile, name, bot, status_created_at, modified_date, modified_hour, acc_age, tweets_per_day, in_reply_data, ff_ratio, tweet_text, sn_length, desc_length, diversity, null_url]\n",
       "Index: []\n",
       "\n",
       "[0 rows x 26 columns]"
      ]
     },
     "execution_count": 55,
     "metadata": {},
     "output_type": "execute_result"
    }
   ],
   "source": [
    "train[train['screen_name'] == 'airport_exe']"
   ]
  },
  {
   "cell_type": "code",
   "execution_count": 56,
   "metadata": {
    "collapsed": false
   },
   "outputs": [
    {
     "data": {
      "text/plain": [
       "count                                                  1931\n",
       "unique                                                 1456\n",
       "top       Enter now for your chance to Win! https://t.co...\n",
       "freq                                                    132\n",
       "Name: tweet_text, dtype: object"
      ]
     },
     "execution_count": 56,
     "metadata": {},
     "output_type": "execute_result"
    }
   ],
   "source": [
    "train['tweet_text'].describe()"
   ]
  },
  {
   "cell_type": "code",
   "execution_count": 57,
   "metadata": {
    "collapsed": false
   },
   "outputs": [
    {
     "data": {
      "text/plain": [
       "(array([], dtype=int64),)"
      ]
     },
     "execution_count": 57,
     "metadata": {},
     "output_type": "execute_result"
    }
   ],
   "source": [
    "np.where(pd.isnull(all_data['tweet_text']))"
   ]
  },
  {
   "cell_type": "code",
   "execution_count": 37,
   "metadata": {
    "collapsed": false
   },
   "outputs": [],
   "source": [
    "train['has_link_in_text'] = train.tweet_text.apply(lambda x : 'a' if (x is None) else x)"
   ]
  },
  {
   "cell_type": "code",
   "execution_count": 58,
   "metadata": {
    "collapsed": false
   },
   "outputs": [],
   "source": [
    "all_data['has_link_in_text'] = all_data.tweet_text.apply(lambda x : 1 if (x.find('https') != -1) else 0)"
   ]
  },
  {
   "cell_type": "code",
   "execution_count": 59,
   "metadata": {
    "collapsed": false
   },
   "outputs": [
    {
     "data": {
      "text/plain": [
       "<matplotlib.axes._subplots.AxesSubplot at 0xe63c400>"
      ]
     },
     "execution_count": 59,
     "metadata": {},
     "output_type": "execute_result"
    },
    {
     "data": {
      "image/png": "[encoded data removed]",
      "text/plain": [
       "<matplotlib.figure.Figure at 0xdc9f0b8>"
      ]
     },
     "metadata": {},
     "output_type": "display_data"
    }
   ],
   "source": [
    "\n",
    "sns.countplot(x='has_link_in_text', hue='bot', data=all_data)"
   ]
  },
  {
   "cell_type": "code",
   "execution_count": 2,
   "metadata": {
    "collapsed": false
   },
   "outputs": [
    {
     "ename": "NameError",
     "evalue": "name 'train' is not defined",
     "output_type": "error",
     "traceback": [
      "\u001b[0;31m---------------------------------------------------------------------------\u001b[0m",
      "\u001b[0;31mNameError\u001b[0m                                 Traceback (most recent call last)",
      "\u001b[0;32m<ipython-input-2-b34ea5894b52>\u001b[0m in \u001b[0;36m<module>\u001b[0;34m()\u001b[0m\n\u001b[1;32m      3\u001b[0m \u001b[0mfeatures\u001b[0m \u001b[1;33m=\u001b[0m \u001b[1;33m[\u001b[0m\u001b[1;34m'friends_count'\u001b[0m\u001b[1;33m,\u001b[0m\u001b[1;34m'verified'\u001b[0m\u001b[1;33m,\u001b[0m\u001b[1;34m'default_profile'\u001b[0m\u001b[1;33m,\u001b[0m\u001b[1;34m'desc_length'\u001b[0m\u001b[1;33m,\u001b[0m\u001b[1;34m'diversity'\u001b[0m\u001b[1;33m,\u001b[0m\u001b[1;34m'null_url'\u001b[0m\u001b[1;33m]\u001b[0m\u001b[1;33m\u001b[0m\u001b[0m\n\u001b[1;32m      4\u001b[0m \u001b[0mmodel\u001b[0m \u001b[1;33m=\u001b[0m \u001b[0mLogisticRegression\u001b[0m\u001b[1;33m(\u001b[0m\u001b[0mn_jobs\u001b[0m\u001b[1;33m=\u001b[0m\u001b[1;36m2\u001b[0m\u001b[1;33m,\u001b[0m\u001b[0mC\u001b[0m\u001b[1;33m=\u001b[0m\u001b[1;36m1e5\u001b[0m\u001b[1;33m,\u001b[0m\u001b[0mfit_intercept\u001b[0m\u001b[1;33m=\u001b[0m\u001b[0mTrue\u001b[0m\u001b[1;33m,\u001b[0m\u001b[0mpenalty\u001b[0m\u001b[1;33m=\u001b[0m\u001b[1;34m'l1'\u001b[0m\u001b[1;33m)\u001b[0m\u001b[1;33m\u001b[0m\u001b[0m\n\u001b[0;32m----> 5\u001b[0;31m \u001b[0mmodel\u001b[0m \u001b[1;33m=\u001b[0m \u001b[0mmodel\u001b[0m\u001b[1;33m.\u001b[0m\u001b[0mfit\u001b[0m\u001b[1;33m(\u001b[0m\u001b[0mtrain\u001b[0m\u001b[1;33m[\u001b[0m\u001b[0mfeatures\u001b[0m\u001b[1;33m]\u001b[0m\u001b[1;33m,\u001b[0m \u001b[0mtrain\u001b[0m\u001b[1;33m[\u001b[0m\u001b[1;34m'bot'\u001b[0m\u001b[1;33m]\u001b[0m\u001b[1;33m)\u001b[0m\u001b[1;33m\u001b[0m\u001b[0m\n\u001b[0m",
      "\u001b[0;31mNameError\u001b[0m: name 'train' is not defined"
     ]
    }
   ],
   "source": [
    "from sklearn import preprocessing\n",
    "from sklearn.linear_model import LogisticRegression\n",
    "features = ['friends_count','verified','default_profile','desc_length','diversity','null_url']\n",
    "model = LogisticRegression(n_jobs=2,C=1e5,fit_intercept=True,penalty='l1')\n",
    "model = model.fit(train[features], train['bot'])"
   ]
  },
  {
   "cell_type": "code",
   "execution_count": 19,
   "metadata": {
    "collapsed": false
   },
   "outputs": [
    {
     "data": {
      "text/plain": [
       "0.74313827032625579"
      ]
     },
     "execution_count": 19,
     "metadata": {},
     "output_type": "execute_result"
    }
   ],
   "source": [
    "model.score(train[features], train['bot'])"
   ]
  },
  {
   "cell_type": "code",
   "execution_count": 20,
   "metadata": {
    "collapsed": false
   },
   "outputs": [
    {
     "name": "stdout",
     "output_type": "stream",
     "text": [
      "[ 0.71134021  0.72680412  0.73195876  0.67525773  0.71649485  0.75647668\n",
      "  0.765625    0.765625    0.74479167  0.72395833] 0.731833235404\n"
     ]
    }
   ],
   "source": [
    "a = cross_val_score(model, train[features], train['bot'], cv=10)\n",
    "print a,np.mean(a)"
   ]
  },
  {
   "cell_type": "code",
   "execution_count": 30,
   "metadata": {
    "collapsed": false
   },
   "outputs": [
    {
     "data": {
      "text/plain": [
       "SVC(C=1.0, cache_size=200, class_weight=None, coef0=0.0,\n",
       "  decision_function_shape=None, degree=3, gamma='auto', kernel='rbf',\n",
       "  max_iter=-1, probability=False, random_state=None, shrinking=True,\n",
       "  tol=0.001, verbose=False)"
      ]
     },
     "execution_count": 30,
     "metadata": {},
     "output_type": "execute_result"
    }
   ],
   "source": [
    "from sklearn import svm\n",
    "svc = svm.SVC(kernel='rbf')\n",
    "svc.fit(train[features], train['bot'])  "
   ]
  },
  {
   "cell_type": "code",
   "execution_count": 31,
   "metadata": {
    "collapsed": false
   },
   "outputs": [
    {
     "name": "stdout",
     "output_type": "stream",
     "text": [
      "[ 0.71428571  0.65306122  0.59183673  0.67346939  0.71428571  0.6875\n",
      "  0.64583333  0.66666667  0.68085106  0.63829787] 0.666608771168\n"
     ]
    }
   ],
   "source": [
    "a = cross_val_score(svc, test[features], test['bot'], cv=10)\n",
    "print a,np.mean(a)"
   ]
  },
  {
   "cell_type": "code",
   "execution_count": 100,
   "metadata": {
    "collapsed": false
   },
   "outputs": [
    {
     "name": "stderr",
     "output_type": "stream",
     "text": [
      "C:\\Users\\hp\\Anaconda2\\lib\\site-packages\\sklearn\\preprocessing\\data.py:986: DeprecationWarning: Passing 1d arrays as data is deprecated in 0.17 and will raise ValueError in 0.19. Reshape your data either using X.reshape(-1, 1) if your data has a single feature or X.reshape(1, -1) if it contains a single sample.\n",
      "  warnings.warn(DEPRECATION_MSG_1D, DeprecationWarning)\n",
      "C:\\Users\\hp\\Anaconda2\\lib\\site-packages\\sklearn\\preprocessing\\data.py:1008: DeprecationWarning: Passing 1d arrays as data is deprecated in 0.17 and will raise ValueError in 0.19. Reshape your data either using X.reshape(-1, 1) if your data has a single feature or X.reshape(1, -1) if it contains a single sample.\n",
      "  warnings.warn(DEPRECATION_MSG_1D, DeprecationWarning)\n",
      "C:\\Users\\hp\\Anaconda2\\lib\\site-packages\\sklearn\\preprocessing\\data.py:986: DeprecationWarning: Passing 1d arrays as data is deprecated in 0.17 and will raise ValueError in 0.19. Reshape your data either using X.reshape(-1, 1) if your data has a single feature or X.reshape(1, -1) if it contains a single sample.\n",
      "  warnings.warn(DEPRECATION_MSG_1D, DeprecationWarning)\n",
      "C:\\Users\\hp\\Anaconda2\\lib\\site-packages\\sklearn\\preprocessing\\data.py:1037: DeprecationWarning: Passing 1d arrays as data is deprecated in 0.17 and will raise ValueError in 0.19. Reshape your data either using X.reshape(-1, 1) if your data has a single feature or X.reshape(1, -1) if it contains a single sample.\n",
      "  warnings.warn(DEPRECATION_MSG_1D, DeprecationWarning)\n"
     ]
    }
   ],
   "source": [
    "robust_scaler = preprocessing.RobustScaler()\n",
    "train['friends_count'] = robust_scaler.fit_transform(train['friends_count'])"
   ]
  },
  {
   "cell_type": "code",
   "execution_count": 101,
   "metadata": {
    "collapsed": false,
    "scrolled": true
   },
   "outputs": [
    {
     "data": {
      "text/plain": [
       "1544    2.092391\n",
       "1692   -0.103261\n",
       "207    -0.340580\n",
       "2190   -0.298913\n",
       "712    -0.346014\n",
       "Name: friends_count, dtype: float64"
      ]
     },
     "execution_count": 101,
     "metadata": {},
     "output_type": "execute_result"
    }
   ],
   "source": [
    "train.friends_count.head()"
   ]
  },
  {
   "cell_type": "code",
   "execution_count": null,
   "metadata": {
    "collapsed": true
   },
   "outputs": [],
   "source": []
  }
 ],
 "metadata": {
  "kernelspec": {
   "display_name": "Python 2",
   "language": "python",
   "name": "python2"
  },
  "language_info": {
   "codemirror_mode": {
    "name": "ipython",
    "version": 2
   },
   "file_extension": ".py",
   "mimetype": "text/x-python",
   "name": "python",
   "nbconvert_exporter": "python",
   "pygments_lexer": "ipython2",
   "version": "2.7.13"
  }
 },
 "nbformat": 4,
 "nbformat_minor": 2
}
